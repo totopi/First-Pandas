{
 "cells": [
  {
   "cell_type": "code",
   "execution_count": 1,
   "metadata": {
    "collapsed": true
   },
   "outputs": [],
   "source": [
    "# Dependencies\n",
    "import pandas as pd"
   ]
  },
  {
   "cell_type": "code",
   "execution_count": 12,
   "metadata": {},
   "outputs": [
    {
     "data": {
      "text/html": [
       "<div>\n",
       "<style>\n",
       "    .dataframe thead tr:only-child th {\n",
       "        text-align: right;\n",
       "    }\n",
       "\n",
       "    .dataframe thead th {\n",
       "        text-align: left;\n",
       "    }\n",
       "\n",
       "    .dataframe tbody tr th {\n",
       "        vertical-align: top;\n",
       "    }\n",
       "</style>\n",
       "<table border=\"1\" class=\"dataframe\">\n",
       "  <thead>\n",
       "    <tr style=\"text-align: right;\">\n",
       "      <th></th>\n",
       "      <th>School ID</th>\n",
       "      <th>school_name</th>\n",
       "      <th>type</th>\n",
       "      <th>size</th>\n",
       "      <th>budget</th>\n",
       "    </tr>\n",
       "  </thead>\n",
       "  <tbody>\n",
       "    <tr>\n",
       "      <th>0</th>\n",
       "      <td>0</td>\n",
       "      <td>Miller High School</td>\n",
       "      <td>Charter</td>\n",
       "      <td>2424</td>\n",
       "      <td>1418040</td>\n",
       "    </tr>\n",
       "  </tbody>\n",
       "</table>\n",
       "</div>"
      ],
      "text/plain": [
       "   School ID         school_name     type  size   budget\n",
       "0          0  Miller High School  Charter  2424  1418040"
      ]
     },
     "execution_count": 12,
     "metadata": {},
     "output_type": "execute_result"
    }
   ],
   "source": [
    "# Import files with pandas\n",
    "school_df = pd.read_csv(\"generated_data/schools_complete.csv\")\n",
    "student_df = pd.read_csv(\"generated_data/students_complete.csv\")\n",
    "\n",
    "# Output headers for my use\n",
    "school_df.head(1)"
   ]
  },
  {
   "cell_type": "code",
   "execution_count": 13,
   "metadata": {},
   "outputs": [
    {
     "data": {
      "text/html": [
       "<div>\n",
       "<style>\n",
       "    .dataframe thead tr:only-child th {\n",
       "        text-align: right;\n",
       "    }\n",
       "\n",
       "    .dataframe thead th {\n",
       "        text-align: left;\n",
       "    }\n",
       "\n",
       "    .dataframe tbody tr th {\n",
       "        vertical-align: top;\n",
       "    }\n",
       "</style>\n",
       "<table border=\"1\" class=\"dataframe\">\n",
       "  <thead>\n",
       "    <tr style=\"text-align: right;\">\n",
       "      <th></th>\n",
       "      <th>Student ID</th>\n",
       "      <th>student_name</th>\n",
       "      <th>gender</th>\n",
       "      <th>grade</th>\n",
       "      <th>school_name</th>\n",
       "      <th>reading_score</th>\n",
       "      <th>math_score</th>\n",
       "    </tr>\n",
       "  </thead>\n",
       "  <tbody>\n",
       "    <tr>\n",
       "      <th>0</th>\n",
       "      <td>0</td>\n",
       "      <td>April Miller</td>\n",
       "      <td>F</td>\n",
       "      <td>9th</td>\n",
       "      <td>Miller High School</td>\n",
       "      <td>99</td>\n",
       "      <td>92</td>\n",
       "    </tr>\n",
       "  </tbody>\n",
       "</table>\n",
       "</div>"
      ],
      "text/plain": [
       "   Student ID  student_name gender grade         school_name  reading_score  \\\n",
       "0           0  April Miller      F   9th  Miller High School             99   \n",
       "\n",
       "   math_score  \n",
       "0          92  "
      ]
     },
     "execution_count": 13,
     "metadata": {},
     "output_type": "execute_result"
    }
   ],
   "source": [
    "# Output headers for my use\n",
    "student_df.head(1)"
   ]
  },
  {
   "cell_type": "code",
   "execution_count": 14,
   "metadata": {},
   "outputs": [
    {
     "data": {
      "text/html": [
       "<div>\n",
       "<style>\n",
       "    .dataframe thead tr:only-child th {\n",
       "        text-align: right;\n",
       "    }\n",
       "\n",
       "    .dataframe thead th {\n",
       "        text-align: left;\n",
       "    }\n",
       "\n",
       "    .dataframe tbody tr th {\n",
       "        vertical-align: top;\n",
       "    }\n",
       "</style>\n",
       "<table border=\"1\" class=\"dataframe\">\n",
       "  <thead>\n",
       "    <tr style=\"text-align: right;\">\n",
       "      <th></th>\n",
       "      <th>Student ID</th>\n",
       "      <th>student_name</th>\n",
       "      <th>gender</th>\n",
       "      <th>grade</th>\n",
       "      <th>school_name</th>\n",
       "      <th>reading_score</th>\n",
       "      <th>math_score</th>\n",
       "      <th>School ID</th>\n",
       "      <th>type</th>\n",
       "      <th>size</th>\n",
       "      <th>budget</th>\n",
       "    </tr>\n",
       "  </thead>\n",
       "  <tbody>\n",
       "    <tr>\n",
       "      <th>0</th>\n",
       "      <td>0</td>\n",
       "      <td>April Miller</td>\n",
       "      <td>F</td>\n",
       "      <td>9th</td>\n",
       "      <td>Miller High School</td>\n",
       "      <td>99</td>\n",
       "      <td>92</td>\n",
       "      <td>0</td>\n",
       "      <td>Charter</td>\n",
       "      <td>2424</td>\n",
       "      <td>1418040</td>\n",
       "    </tr>\n",
       "  </tbody>\n",
       "</table>\n",
       "</div>"
      ],
      "text/plain": [
       "   Student ID  student_name gender grade         school_name  reading_score  \\\n",
       "0           0  April Miller      F   9th  Miller High School             99   \n",
       "\n",
       "   math_score  School ID     type  size   budget  \n",
       "0          92          0  Charter  2424  1418040  "
      ]
     },
     "execution_count": 14,
     "metadata": {},
     "output_type": "execute_result"
    }
   ],
   "source": [
    "# Make a combined dataframe for later\n",
    "district_df = pd.merge(student_df, school_df, on=\"school_name\")\n",
    "district_df.head(1)"
   ]
  },
  {
   "cell_type": "code",
   "execution_count": 78,
   "metadata": {},
   "outputs": [
    {
     "data": {
      "text/html": [
       "<div>\n",
       "<style>\n",
       "    .dataframe thead tr:only-child th {\n",
       "        text-align: right;\n",
       "    }\n",
       "\n",
       "    .dataframe thead th {\n",
       "        text-align: left;\n",
       "    }\n",
       "\n",
       "    .dataframe tbody tr th {\n",
       "        vertical-align: top;\n",
       "    }\n",
       "</style>\n",
       "<table border=\"1\" class=\"dataframe\">\n",
       "  <thead>\n",
       "    <tr style=\"text-align: right;\">\n",
       "      <th></th>\n",
       "      <th>Total Schools</th>\n",
       "      <th>Total Students</th>\n",
       "      <th>Total Budget</th>\n",
       "      <th>Average Math Score</th>\n",
       "      <th>Average Reading Score</th>\n",
       "      <th>% Passing Math</th>\n",
       "      <th>% Passing Reading</th>\n",
       "      <th>% Overall Passing Rate</th>\n",
       "    </tr>\n",
       "  </thead>\n",
       "  <tbody>\n",
       "    <tr>\n",
       "      <th>0</th>\n",
       "      <td>11</td>\n",
       "      <td>29,376</td>\n",
       "      <td>$18,648,468</td>\n",
       "      <td>82.27%</td>\n",
       "      <td>82.87%</td>\n",
       "      <td>100.00%</td>\n",
       "      <td>92.77%</td>\n",
       "      <td>96.38%</td>\n",
       "    </tr>\n",
       "  </tbody>\n",
       "</table>\n",
       "</div>"
      ],
      "text/plain": [
       "   Total Schools Total Students Total Budget Average Math Score  \\\n",
       "0             11         29,376  $18,648,468             82.27%   \n",
       "\n",
       "  Average Reading Score % Passing Math % Passing Reading  \\\n",
       "0                82.87%        100.00%            92.77%   \n",
       "\n",
       "  % Overall Passing Rate  \n",
       "0                 96.38%  "
      ]
     },
     "execution_count": 78,
     "metadata": {},
     "output_type": "execute_result"
    }
   ],
   "source": [
    "# DISTRICT SUMMARY\n",
    "#> Create a high level snapshot (in table form) of the district's key metrics, including:\n",
    "# - Total Schools\n",
    "school_total = school_df[\"school_name\"].count()\n",
    "\n",
    "# - Total Students\n",
    "student_total = student_df[\"student_name\"].count()\n",
    "\n",
    "# - Total Budget\n",
    "budget_total = school_df[\"budget\"].sum()\n",
    "\n",
    "# - Average Math Score\n",
    "math_average = student_df[\"math_score\"].mean()\n",
    "\n",
    "# - Average Reading Score\n",
    "reading_average = student_df[\"reading_score\"].mean()\n",
    "\n",
    "# - % Passing Math\n",
    "math_passing = student_df[\"math_score\"][student_df[\"math_score\"] >= 60].count()\n",
    "math_passing = (math_passing / student_total) * 100\n",
    "\n",
    "# - % Passing Reading\n",
    "reading_passing = student_df[\"reading_score\"][student_df[\"reading_score\"] >= 60].count()\n",
    "reading_passing = (reading_passing / student_total) * 100\n",
    "\n",
    "# - Overall Passing Rate (Average of the above two)\n",
    "overall_passing = (math_passing + reading_passing) / 2\n",
    "\n",
    "# Make that table!\n",
    "district_summary_table = pd.DataFrame({\"Total Schools\": [school_total],\n",
    "                                       \"Total Students\": [\"{:,}\".format(student_total)],\n",
    "                                       \"Total Budget\": [\"${:,}\".format(budget_total)],\n",
    "                                       \"Average Math Score\": [\"{:.2f}%\".format(math_average)],\n",
    "                                       \"Average Reading Score\": [\"{:.2f}%\".format(reading_average)],\n",
    "                                       \"% Passing Math\": [\"{:.2f}%\".format(math_passing)],\n",
    "                                       \"% Passing Reading\": [\"{:.2f}%\".format(reading_passing)],\n",
    "                                       \"% Overall Passing Rate\": [\"{:.2f}%\".format(overall_passing)]\n",
    "                                       })\n",
    "district_summary_table = district_summary_table[[\"Total Schools\",\n",
    "                                                \"Total Students\",\n",
    "                                                \"Total Budget\",\n",
    "                                                \"Average Math Score\",\n",
    "                                                \"Average Reading Score\",\n",
    "                                                \"% Passing Math\",\n",
    "                                                \"% Passing Reading\",\n",
    "                                                \"% Overall Passing Rate\"]]\n",
    "district_summary_table"
   ]
  },
  {
   "cell_type": "code",
   "execution_count": null,
   "metadata": {
    "collapsed": true
   },
   "outputs": [],
   "source": []
  },
  {
   "cell_type": "code",
   "execution_count": null,
   "metadata": {
    "collapsed": true
   },
   "outputs": [],
   "source": []
  }
 ],
 "metadata": {
  "kernelspec": {
   "display_name": "Python [conda env:PythonData]",
   "language": "python",
   "name": "conda-env-PythonData-py"
  },
  "language_info": {
   "codemirror_mode": {
    "name": "ipython",
    "version": 3
   },
   "file_extension": ".py",
   "mimetype": "text/x-python",
   "name": "python",
   "nbconvert_exporter": "python",
   "pygments_lexer": "ipython3",
   "version": "3.6.3"
  }
 },
 "nbformat": 4,
 "nbformat_minor": 2
}
