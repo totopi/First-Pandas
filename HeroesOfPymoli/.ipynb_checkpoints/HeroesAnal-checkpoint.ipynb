{
 "cells": [
  {
   "cell_type": "code",
   "execution_count": 182,
   "metadata": {
    "collapsed": true
   },
   "outputs": [],
   "source": [
    "# Dependencies\n",
    "import pandas as pd\n",
    "import numpy as np"
   ]
  },
  {
   "cell_type": "code",
   "execution_count": 183,
   "metadata": {
    "collapsed": true
   },
   "outputs": [],
   "source": [
    "# Import files using pandas\n",
    "items_df = pd.read_csv(\"generated_data\\items_complete.csv\")\n",
    "players_df = pd.read_csv(\"generated_data\\players_complete.csv\")\n",
    "purchase_df = pd.read_csv(\"generated_data\\purchase_data_3.csv\")"
   ]
  },
  {
   "cell_type": "code",
   "execution_count": 184,
   "metadata": {
    "collapsed": true
   },
   "outputs": [],
   "source": [
    "# Get the total number of players with .count(), using SN column b/c its short\n",
    "player_count = players_df[\"SN\"].count()"
   ]
  },
  {
   "cell_type": "code",
   "execution_count": 185,
   "metadata": {
    "collapsed": true
   },
   "outputs": [],
   "source": [
    "# Get the total count of unique items with len() since .unique() returns a list\n",
    "unique_item_count = len(items_df[\"Item Name\"].unique())"
   ]
  },
  {
   "cell_type": "code",
   "execution_count": 186,
   "metadata": {
    "collapsed": true
   },
   "outputs": [],
   "source": [
    "# Get the average purchase price by dividing the sum of the price column by total number of items\n",
    "average_purchase_price = purchase_df[\"Price\"].sum() / len(purchase_df[\"Price\"])"
   ]
  },
  {
   "cell_type": "code",
   "execution_count": 187,
   "metadata": {},
   "outputs": [],
   "source": [
    "# Get the total number of purchases\n",
    "total_purchases = purchase_df[\"Price\"].count()"
   ]
  },
  {
   "cell_type": "code",
   "execution_count": 188,
   "metadata": {},
   "outputs": [],
   "source": [
    "# Get total revenue by adding up the revenue from the purchase_df\n",
    "total_revenue = purchase_df[\"Price\"].sum()"
   ]
  },
  {
   "cell_type": "code",
   "execution_count": 189,
   "metadata": {},
   "outputs": [],
   "source": [
    "# Get % and # of male players\n",
    "number_male = len(players_df.loc[players_df[\"Gender\"] == \"Male\",:])\n",
    "\n",
    "percent_male = (number_male / player_count)\n",
    "percent_male = \"{:.2%}\".format(percent_male)"
   ]
  },
  {
   "cell_type": "code",
   "execution_count": 190,
   "metadata": {},
   "outputs": [],
   "source": [
    "# Get % and # of female players\n",
    "number_female = len(players_df.loc[players_df[\"Gender\"] == \"Female\",:])\n",
    "\n",
    "percent_female = (number_female / player_count)\n",
    "percent_female = \"{:.2%}\".format(percent_female)"
   ]
  },
  {
   "cell_type": "code",
   "execution_count": 191,
   "metadata": {},
   "outputs": [],
   "source": [
    "# Get % and # of other / non-disclosed players\n",
    "number_other = len(players_df.loc[players_df[\"Gender\"] == \"Other / Non-Disclosed\",:])\n",
    "\n",
    "percent_other = (number_other / player_count)\n",
    "percent_other = \"{:.2%}\".format(percent_other)"
   ]
  },
  {
   "cell_type": "code",
   "execution_count": 192,
   "metadata": {
    "collapsed": true
   },
   "outputs": [],
   "source": [
    "# Set up some dataframes etc to use for purchase analysis\n",
    "male_df = purchase_df.loc[purchase_df[\"Gender\"] == \"Male\",:]\n",
    "female_df = purchase_df.loc[purchase_df[\"Gender\"] == \"Female\",:]\n",
    "other_df = purchase_df.loc[purchase_df[\"Gender\"] == \"Other / Non-Disclosed\",:]"
   ]
  },
  {
   "cell_type": "code",
   "execution_count": 193,
   "metadata": {
    "collapsed": true
   },
   "outputs": [],
   "source": [
    "# Get purchase count broken by gender\n",
    "male_purchase = len(male_df)\n",
    "female_purchase = len(female_df)\n",
    "other_purchase = len(other_df)"
   ]
  },
  {
   "cell_type": "code",
   "execution_count": 194,
   "metadata": {
    "collapsed": true
   },
   "outputs": [],
   "source": [
    "# Get total purchase value broken by gender\n",
    "male_total_value = male_df[\"Price\"].sum()\n",
    "female_total_value = female_df[\"Price\"].sum()\n",
    "other_total_value = other_df[\"Price\"].sum()"
   ]
  },
  {
   "cell_type": "code",
   "execution_count": 195,
   "metadata": {},
   "outputs": [],
   "source": [
    "# Get average purchase price broken by gender\n",
    "male_average_price = male_total_value / male_purchase\n",
    "female_average_price = female_total_value / female_purchase\n",
    "other_average_price = other_total_value / other_purchase"
   ]
  },
  {
   "cell_type": "code",
   "execution_count": 196,
   "metadata": {
    "collapsed": true
   },
   "outputs": [],
   "source": [
    "# Get normalized totals broken by gender, with code repurposed from stackoverflow\n",
    "male_purchase_normalized = (male_df[\"Price\"] - male_df[\"Price\"].mean()) / (male_df[\"Price\"].max() - male_df[\"Price\"].min())\n",
    "male_purchase_normalized_total = male_purchase_normalized.sum()\n",
    "\n",
    "female_purchase_normalized = (female_df[\"Price\"] - female_df[\"Price\"].mean()) / (female_df[\"Price\"].max() - female_df[\"Price\"].min())\n",
    "female_purchase_normalized_total = female_purchase_normalized.sum()\n",
    "\n",
    "other_purchase_normalized = (other_df[\"Price\"] - other_df[\"Price\"].mean()) / (other_df[\"Price\"].max() - other_df[\"Price\"].min())\n",
    "other_purchase_normalized_total = other_purchase_normalized.sum()"
   ]
  },
  {
   "cell_type": "code",
   "execution_count": 197,
   "metadata": {},
   "outputs": [
    {
     "data": {
      "text/html": [
       "<div>\n",
       "<style>\n",
       "    .dataframe thead tr:only-child th {\n",
       "        text-align: right;\n",
       "    }\n",
       "\n",
       "    .dataframe thead th {\n",
       "        text-align: left;\n",
       "    }\n",
       "\n",
       "    .dataframe tbody tr th {\n",
       "        vertical-align: top;\n",
       "    }\n",
       "</style>\n",
       "<table border=\"1\" class=\"dataframe\">\n",
       "  <thead>\n",
       "    <tr style=\"text-align: right;\">\n",
       "      <th></th>\n",
       "      <th>Purchase ID</th>\n",
       "      <th>SN</th>\n",
       "      <th>Age</th>\n",
       "      <th>Gender</th>\n",
       "      <th>Item ID</th>\n",
       "      <th>Item Name</th>\n",
       "      <th>Price</th>\n",
       "      <th>Player ID</th>\n",
       "    </tr>\n",
       "  </thead>\n",
       "  <tbody>\n",
       "    <tr>\n",
       "      <th>0</th>\n",
       "      <td>0</td>\n",
       "      <td>Iloni35</td>\n",
       "      <td>20</td>\n",
       "      <td>Male</td>\n",
       "      <td>93</td>\n",
       "      <td>Apocalyptic Battlescythe</td>\n",
       "      <td>4.49</td>\n",
       "      <td>137</td>\n",
       "    </tr>\n",
       "  </tbody>\n",
       "</table>\n",
       "</div>"
      ],
      "text/plain": [
       "   Purchase ID       SN  Age Gender  Item ID                 Item Name  Price  \\\n",
       "0            0  Iloni35   20   Male       93  Apocalyptic Battlescythe   4.49   \n",
       "\n",
       "   Player ID  \n",
       "0        137  "
      ]
     },
     "execution_count": 197,
     "metadata": {},
     "output_type": "execute_result"
    }
   ],
   "source": [
    "# Prepare to analyze age demographics\n",
    "# first join purchase and players tables and clean it\n",
    "players_purchase_joined_df = pd.merge(purchase_df, players_df, on=\"SN\")\n",
    "players_purchase_joined_df = players_purchase_joined_df.rename(columns={\"Age_x\": \"Age\",\n",
    "                                                                       \"Gender_x\": \"Gender\"})\n",
    "players_purchase_joined_clean_df = players_purchase_joined_df[[\"Purchase ID\",\n",
    "                                                             \"SN\",\n",
    "                                                             \"Age\",\n",
    "                                                             \"Gender\",\n",
    "                                                             \"Item ID\",\n",
    "                                                             \"Item Name\",\n",
    "                                                             \"Price\",\n",
    "                                                             \"Player ID\"]]\n",
    "players_purchase_joined_clean_df.head(1)"
   ]
  },
  {
   "cell_type": "code",
   "execution_count": 198,
   "metadata": {},
   "outputs": [
    {
     "name": "stderr",
     "output_type": "stream",
     "text": [
      "c:\\users\\t0nb3\\Anaconda3\\envs\\PythonData\\lib\\site-packages\\ipykernel\\__main__.py:4: SettingWithCopyWarning: \n",
      "A value is trying to be set on a copy of a slice from a DataFrame.\n",
      "Try using .loc[row_indexer,col_indexer] = value instead\n",
      "\n",
      "See the caveats in the documentation: http://pandas.pydata.org/pandas-docs/stable/indexing.html#indexing-view-versus-copy\n"
     ]
    },
    {
     "data": {
      "text/html": [
       "<div>\n",
       "<style>\n",
       "    .dataframe thead tr:only-child th {\n",
       "        text-align: right;\n",
       "    }\n",
       "\n",
       "    .dataframe thead th {\n",
       "        text-align: left;\n",
       "    }\n",
       "\n",
       "    .dataframe tbody tr th {\n",
       "        vertical-align: top;\n",
       "    }\n",
       "</style>\n",
       "<table border=\"1\" class=\"dataframe\">\n",
       "  <thead>\n",
       "    <tr style=\"text-align: right;\">\n",
       "      <th></th>\n",
       "      <th>Purchase ID</th>\n",
       "      <th>SN</th>\n",
       "      <th>Age</th>\n",
       "      <th>Gender</th>\n",
       "      <th>Item ID</th>\n",
       "      <th>Item Name</th>\n",
       "      <th>Price</th>\n",
       "      <th>Player ID</th>\n",
       "      <th>Age Groups</th>\n",
       "    </tr>\n",
       "  </thead>\n",
       "  <tbody>\n",
       "    <tr>\n",
       "      <th>0</th>\n",
       "      <td>0</td>\n",
       "      <td>Iloni35</td>\n",
       "      <td>20</td>\n",
       "      <td>Male</td>\n",
       "      <td>93</td>\n",
       "      <td>Apocalyptic Battlescythe</td>\n",
       "      <td>4.49</td>\n",
       "      <td>137</td>\n",
       "      <td>18-22</td>\n",
       "    </tr>\n",
       "    <tr>\n",
       "      <th>1</th>\n",
       "      <td>1</td>\n",
       "      <td>Aidaira26</td>\n",
       "      <td>21</td>\n",
       "      <td>Male</td>\n",
       "      <td>12</td>\n",
       "      <td>Dawne</td>\n",
       "      <td>3.36</td>\n",
       "      <td>799</td>\n",
       "      <td>18-22</td>\n",
       "    </tr>\n",
       "    <tr>\n",
       "      <th>2</th>\n",
       "      <td>68</td>\n",
       "      <td>Aidaira26</td>\n",
       "      <td>21</td>\n",
       "      <td>Male</td>\n",
       "      <td>82</td>\n",
       "      <td>Nirvana</td>\n",
       "      <td>1.77</td>\n",
       "      <td>799</td>\n",
       "      <td>18-22</td>\n",
       "    </tr>\n",
       "    <tr>\n",
       "      <th>3</th>\n",
       "      <td>2</td>\n",
       "      <td>Irim47</td>\n",
       "      <td>17</td>\n",
       "      <td>Male</td>\n",
       "      <td>5</td>\n",
       "      <td>Putrid Fan</td>\n",
       "      <td>2.63</td>\n",
       "      <td>963</td>\n",
       "      <td>14-18</td>\n",
       "    </tr>\n",
       "    <tr>\n",
       "      <th>4</th>\n",
       "      <td>3</td>\n",
       "      <td>Irith83</td>\n",
       "      <td>17</td>\n",
       "      <td>Male</td>\n",
       "      <td>123</td>\n",
       "      <td>Twilight's Carver</td>\n",
       "      <td>2.55</td>\n",
       "      <td>843</td>\n",
       "      <td>14-18</td>\n",
       "    </tr>\n",
       "  </tbody>\n",
       "</table>\n",
       "</div>"
      ],
      "text/plain": [
       "   Purchase ID         SN  Age Gender  Item ID                 Item Name  \\\n",
       "0            0    Iloni35   20   Male       93  Apocalyptic Battlescythe   \n",
       "1            1  Aidaira26   21   Male       12                     Dawne   \n",
       "2           68  Aidaira26   21   Male       82                   Nirvana   \n",
       "3            2     Irim47   17   Male        5                Putrid Fan   \n",
       "4            3    Irith83   17   Male      123         Twilight's Carver   \n",
       "\n",
       "   Price  Player ID Age Groups  \n",
       "0   4.49        137      18-22  \n",
       "1   3.36        799      18-22  \n",
       "2   1.77        799      18-22  \n",
       "3   2.63        963      14-18  \n",
       "4   2.55        843      14-18  "
      ]
     },
     "execution_count": 198,
     "metadata": {},
     "output_type": "execute_result"
    }
   ],
   "source": [
    "# make bins and group names\n",
    "bins = [0, 10, 14, 18, 22, 26, 30, 34, 38, 200]\n",
    "bin_names = [\"< 10\", \"10-14\", \"14-18\", \"18-22\", \"22-26\", \"26-30\", \"30-34\", \"34-38\", \"38+\"]\n",
    "players_purchase_joined_clean_df[\"Age Groups\"] = pd.cut(players_purchase_joined_clean_df[\"Age\"], bins, labels=bin_names)\n",
    "players_purchase_joined_clean_df.head()"
   ]
  },
  {
   "cell_type": "code",
   "execution_count": 199,
   "metadata": {},
   "outputs": [],
   "source": [
    "# Create a dataframe grouped by age groups\n",
    "players_purchase_groups = players_purchase_joined_clean_df.groupby(\"Age Groups\")"
   ]
  },
  {
   "cell_type": "code",
   "execution_count": 200,
   "metadata": {},
   "outputs": [],
   "source": [
    "# Get purchase count by age groups\n",
    "purchase_count_age_groups = players_purchase_groups[\"Purchase ID\"].count()"
   ]
  },
  {
   "cell_type": "code",
   "execution_count": 201,
   "metadata": {},
   "outputs": [],
   "source": [
    "# Get average purchase price by age groups\n",
    "average_purchase_age_groups = players_purchase_groups[\"Price\"].mean()"
   ]
  },
  {
   "cell_type": "code",
   "execution_count": 202,
   "metadata": {},
   "outputs": [],
   "source": [
    "# Get total purchase value by age groups\n",
    "\n",
    "total_purchase_age_groups = players_purchase_groups[\"Price\"].sum()"
   ]
  },
  {
   "cell_type": "code",
   "execution_count": 203,
   "metadata": {},
   "outputs": [],
   "source": [
    "# Get normalized totals by age groups\n",
    "#age_purchase_normalized = (players_purchase_groups[\"Price\"] - players_purchase_groups[\"Price\"].mean()) / (players_purchase_groups[\"Price\"].max() - players_purchase_groups[\"Price\"].min())\n",
    "#using more code taken from stackoverflow\n",
    "age_purchase_normalized = players_purchase_joined_clean_df.groupby(\"Age Groups\").transform(lambda x: (x - x.mean()) / x.std())\n",
    "total_normalized_purchase_age_groups = age_purchase_normalized.sum()"
   ]
  },
  {
   "cell_type": "code",
   "execution_count": 239,
   "metadata": {},
   "outputs": [],
   "source": [
    "# Prepare to analyze top spenders\n",
    "# take cleaned table from above and group by SN to find top spenders SNs\n",
    "players_purchase_sn_groups = players_purchase_joined_clean_df.groupby(\"SN\")\n",
    "sorted_top_spender_SN = pd.DataFrame(players_purchase_sn_groups[\"Price\"].sum()).sort_values([\"Price\"], ascending=False)\n",
    "top_five_spender_SN = sorted_top_spender_SN.head(5)"
   ]
  },
  {
   "cell_type": "code",
   "execution_count": 240,
   "metadata": {},
   "outputs": [],
   "source": [
    "# get top 5 spender purchase count\n",
    "SN_purchase_count = pd.DataFrame(players_purchase_sn_groups[\"SN\"].count())\n",
    "top_five_count = SN_purchase_count.loc[top_five_spender_SN.index.tolist()]\n",
    "top_five_count = top_five_count.rename(columns={\"SN\":\"Purchase Count\"})\n",
    "#Over thinking things again...\n",
    "#SN_purchase_count[top_five_spender_SN.index.tolist():]\n",
    "#top_five_purchase_count[top_five_spender_SN.index.tolist()]\n",
    "#pd.DataFrame(players_purchase_sn_groups.head()).sort_values([\"Price\"], ascending=False)"
   ]
  },
  {
   "cell_type": "code",
   "execution_count": 241,
   "metadata": {},
   "outputs": [],
   "source": [
    "# get top 5 spender total purchase value\n",
    "SN_purchase_price = pd.DataFrame(players_purchase_sn_groups[\"Price\"].sum())\n",
    "top_five_total = SN_purchase_price.loc[top_five_spender_SN.index.tolist()]"
   ]
  },
  {
   "cell_type": "code",
   "execution_count": 242,
   "metadata": {},
   "outputs": [],
   "source": [
    "# get top 5 spender average purchase price\n",
    "# can I just divide the tables?\n",
    "#nope average_purchase_price = top_five_purchase_count / total_purchase_value\n",
    "# have to convert to numeric first, using\n",
    "# pd.to_numeric(clean_ufo_df[\"duration (seconds)\"])\n",
    "# will make new variables just in case we want to keep as strings\n",
    "# +s == numeric data inside\n",
    "top_five_counts = pd.to_numeric(top_five_count[\"Purchase Count\"])\n",
    "top_five_totals = pd.to_numeric(top_five_total[\"Price\"])\n",
    "top_five_average = top_five_totals / top_five_counts"
   ]
  },
  {
   "cell_type": "code",
   "execution_count": 262,
   "metadata": {},
   "outputs": [],
   "source": [
    "# Prepare to analyze items and purchases\n",
    "# first join the two tables and get rid of uninteresting\n",
    "items_purchase_joined_df = pd.merge(items_df, purchase_df, on=\"Item ID\")\n",
    "items_purchase_joined_df = items_purchase_joined_df.rename(columns={\"Item Name_x\": \"Item Name\",\n",
    "                                                                   \"Price_x\": \"Price\"})\n",
    "items_purchase_joined_clean_df = items_purchase_joined_df[[\"Item ID\",\n",
    "                                                          \"Purchase ID\",\n",
    "                                                          \"Item Name\",\n",
    "                                                          \"Price\"]]"
   ]
  },
  {
   "cell_type": "code",
   "execution_count": null,
   "metadata": {
    "collapsed": true
   },
   "outputs": [],
   "source": [
    "#######################################################################\n",
    "#TO BE CONTINUED\n",
    "###################\n",
    "#TODO: USE items_purchase_joined_clean_df TO GET SORTED BY PURCHASE COUNT (item id unique?) etc etc"
   ]
  },
  {
   "cell_type": "code",
   "execution_count": 207,
   "metadata": {},
   "outputs": [
    {
     "data": {
      "text/html": [
       "<div>\n",
       "<style>\n",
       "    .dataframe thead tr:only-child th {\n",
       "        text-align: right;\n",
       "    }\n",
       "\n",
       "    .dataframe thead th {\n",
       "        text-align: left;\n",
       "    }\n",
       "\n",
       "    .dataframe tbody tr th {\n",
       "        vertical-align: top;\n",
       "    }\n",
       "</style>\n",
       "<table border=\"1\" class=\"dataframe\">\n",
       "  <thead>\n",
       "    <tr style=\"text-align: right;\">\n",
       "      <th></th>\n",
       "      <th>Purchase ID</th>\n",
       "      <th>SN</th>\n",
       "      <th>Age</th>\n",
       "      <th>Gender</th>\n",
       "      <th>Item ID</th>\n",
       "      <th>Item Name</th>\n",
       "      <th>Price</th>\n",
       "    </tr>\n",
       "  </thead>\n",
       "  <tbody>\n",
       "    <tr>\n",
       "      <th>0</th>\n",
       "      <td>0</td>\n",
       "      <td>Iloni35</td>\n",
       "      <td>20</td>\n",
       "      <td>Male</td>\n",
       "      <td>93</td>\n",
       "      <td>Apocalyptic Battlescythe</td>\n",
       "      <td>4.49</td>\n",
       "    </tr>\n",
       "    <tr>\n",
       "      <th>1</th>\n",
       "      <td>1</td>\n",
       "      <td>Aidaira26</td>\n",
       "      <td>21</td>\n",
       "      <td>Male</td>\n",
       "      <td>12</td>\n",
       "      <td>Dawne</td>\n",
       "      <td>3.36</td>\n",
       "    </tr>\n",
       "    <tr>\n",
       "      <th>2</th>\n",
       "      <td>2</td>\n",
       "      <td>Irim47</td>\n",
       "      <td>17</td>\n",
       "      <td>Male</td>\n",
       "      <td>5</td>\n",
       "      <td>Putrid Fan</td>\n",
       "      <td>2.63</td>\n",
       "    </tr>\n",
       "    <tr>\n",
       "      <th>3</th>\n",
       "      <td>3</td>\n",
       "      <td>Irith83</td>\n",
       "      <td>17</td>\n",
       "      <td>Male</td>\n",
       "      <td>123</td>\n",
       "      <td>Twilight's Carver</td>\n",
       "      <td>2.55</td>\n",
       "    </tr>\n",
       "    <tr>\n",
       "      <th>4</th>\n",
       "      <td>4</td>\n",
       "      <td>Philodil43</td>\n",
       "      <td>22</td>\n",
       "      <td>Male</td>\n",
       "      <td>154</td>\n",
       "      <td>Feral Katana</td>\n",
       "      <td>4.11</td>\n",
       "    </tr>\n",
       "  </tbody>\n",
       "</table>\n",
       "</div>"
      ],
      "text/plain": [
       "   Purchase ID          SN  Age Gender  Item ID                 Item Name  \\\n",
       "0            0     Iloni35   20   Male       93  Apocalyptic Battlescythe   \n",
       "1            1   Aidaira26   21   Male       12                     Dawne   \n",
       "2            2      Irim47   17   Male        5                Putrid Fan   \n",
       "3            3     Irith83   17   Male      123         Twilight's Carver   \n",
       "4            4  Philodil43   22   Male      154              Feral Katana   \n",
       "\n",
       "   Price  \n",
       "0   4.49  \n",
       "1   3.36  \n",
       "2   2.63  \n",
       "3   2.55  \n",
       "4   4.11  "
      ]
     },
     "execution_count": 207,
     "metadata": {},
     "output_type": "execute_result"
    }
   ],
   "source": [
    "purchase_df.head()"
   ]
  },
  {
   "cell_type": "code",
   "execution_count": 255,
   "metadata": {},
   "outputs": [
    {
     "data": {
      "text/html": [
       "<div>\n",
       "<style>\n",
       "    .dataframe thead tr:only-child th {\n",
       "        text-align: right;\n",
       "    }\n",
       "\n",
       "    .dataframe thead th {\n",
       "        text-align: left;\n",
       "    }\n",
       "\n",
       "    .dataframe tbody tr th {\n",
       "        vertical-align: top;\n",
       "    }\n",
       "</style>\n",
       "<table border=\"1\" class=\"dataframe\">\n",
       "  <thead>\n",
       "    <tr style=\"text-align: right;\">\n",
       "      <th></th>\n",
       "      <th>Item ID</th>\n",
       "      <th>Item Name</th>\n",
       "      <th>Price</th>\n",
       "    </tr>\n",
       "  </thead>\n",
       "  <tbody>\n",
       "    <tr>\n",
       "      <th>0</th>\n",
       "      <td>0</td>\n",
       "      <td>Splinter</td>\n",
       "      <td>1.89</td>\n",
       "    </tr>\n",
       "  </tbody>\n",
       "</table>\n",
       "</div>"
      ],
      "text/plain": [
       "   Item ID Item Name  Price\n",
       "0        0  Splinter   1.89"
      ]
     },
     "execution_count": 255,
     "metadata": {},
     "output_type": "execute_result"
    }
   ],
   "source": [
    "items_df.head(1)"
   ]
  },
  {
   "cell_type": "code",
   "execution_count": 47,
   "metadata": {},
   "outputs": [],
   "source": [
    "#players_df.head(10)"
   ]
  },
  {
   "cell_type": "code",
   "execution_count": 254,
   "metadata": {},
   "outputs": [
    {
     "data": {
      "text/html": [
       "<div>\n",
       "<style>\n",
       "    .dataframe thead tr:only-child th {\n",
       "        text-align: right;\n",
       "    }\n",
       "\n",
       "    .dataframe thead th {\n",
       "        text-align: left;\n",
       "    }\n",
       "\n",
       "    .dataframe tbody tr th {\n",
       "        vertical-align: top;\n",
       "    }\n",
       "</style>\n",
       "<table border=\"1\" class=\"dataframe\">\n",
       "  <thead>\n",
       "    <tr style=\"text-align: right;\">\n",
       "      <th></th>\n",
       "      <th>Purchase Count</th>\n",
       "      <th>Average Purchase Price</th>\n",
       "      <th>Total Purchase Value</th>\n",
       "    </tr>\n",
       "    <tr>\n",
       "      <th>SN</th>\n",
       "      <th></th>\n",
       "      <th></th>\n",
       "      <th></th>\n",
       "    </tr>\n",
       "  </thead>\n",
       "  <tbody>\n",
       "    <tr>\n",
       "      <th>Jiskjask76</th>\n",
       "      <td>2</td>\n",
       "      <td>4.590</td>\n",
       "      <td>9.18</td>\n",
       "    </tr>\n",
       "    <tr>\n",
       "      <th>Sundaky74</th>\n",
       "      <td>2</td>\n",
       "      <td>3.705</td>\n",
       "      <td>7.41</td>\n",
       "    </tr>\n",
       "    <tr>\n",
       "      <th>Aidaira26</th>\n",
       "      <td>2</td>\n",
       "      <td>2.565</td>\n",
       "      <td>5.13</td>\n",
       "    </tr>\n",
       "    <tr>\n",
       "      <th>Eusty71</th>\n",
       "      <td>1</td>\n",
       "      <td>4.810</td>\n",
       "      <td>4.81</td>\n",
       "    </tr>\n",
       "    <tr>\n",
       "      <th>Chanirra64</th>\n",
       "      <td>1</td>\n",
       "      <td>4.780</td>\n",
       "      <td>4.78</td>\n",
       "    </tr>\n",
       "  </tbody>\n",
       "</table>\n",
       "</div>"
      ],
      "text/plain": [
       "            Purchase Count  Average Purchase Price  Total Purchase Value\n",
       "SN                                                                      \n",
       "Jiskjask76               2                   4.590                  9.18\n",
       "Sundaky74                2                   3.705                  7.41\n",
       "Aidaira26                2                   2.565                  5.13\n",
       "Eusty71                  1                   4.810                  4.81\n",
       "Chanirra64               1                   4.780                  4.78"
      ]
     },
     "execution_count": 254,
     "metadata": {},
     "output_type": "execute_result"
    }
   ],
   "source": [
    "# Things to do\n",
    "#PLAYER COUNT\n",
    "# - Total Number of Players player_count\n",
    "#PURCHASING ANALYSIS(TOTAL)\n",
    "# - Number of Unique Items unique_item_count\n",
    "# - Average Purchase Price average_purchase_price\n",
    "# - Total Number of Purchases total_purchases\n",
    "# - Total Revenue total_revenue\n",
    "#GENDER DEMOGRAPHICS\n",
    "# - Percentage and Count of Male Players percent_male, number_male\n",
    "# - Percentage and Count of Female Players percent_female, number_female\n",
    "# - Percentage and Count of Other / Non-Disclosed percent_other, number_other\n",
    "#PURCHASING ANALYSIS (GENDER)\n",
    "#>broken by gender\n",
    "# - Purchase Count male_purchase, female_purchase, other_purchase\n",
    "# - Average Purchase Price male_average_price, female_average_price, other_average_price\n",
    "# - Total Purchase Value male_total_value, female_total_value, other_total_value\n",
    "# - Normalized Totals male_purchase_normalized_total, female_purchase_normalized_total, other_purchase_normalized_total\n",
    "#AGE DEMOGRAPHICS\n",
    "#>broken into bins of 4 years (ie <10, 10-14, 15-19,...)\n",
    "# - Purchase Count purchase_count_age_groups\n",
    "# - Average Purchase Price average_purchase_age_groups\n",
    "# - Total Purchase Value total_purchase_age_groups\n",
    "# - Normalized Totals total_normalized_purchase_age_groups\n",
    "#TOP SPENDERS\n",
    "#>id top 5 spenders then list (in a table):\n",
    "# - SN top_five_spender_SN\n",
    "# - Purchase Count top_five_count\n",
    "# - Average Purchase Price top_five_average\n",
    "# - Total Purchase Value top_five_total\n",
    "#MOST POPULAR ITEMS\n",
    "#>id top 5 items by purchase count then list (in a table): \n",
    "# - Item ID\n",
    "#MOST PROFITABLE ITEMS\n",
    "\n",
    "#items table: items_purchase_joined_clean_df\n",
    "\n",
    "#example report table all put together from TOP SPENDERS section\n",
    "spender_report = top_five_spender_SN.rename(columns={\"Price\":\"Total Price\"})\n",
    "spender_report[\"Purchase Count\"] = top_five_count\n",
    "spender_report[\"Average Purchase Price\"] = top_five_average\n",
    "spender_report[\"Total Purchase Value\"] = top_five_total\n",
    "spender_report = spender_report[[\"Purchase Count\", \"Average Purchase Price\", \"Total Purchase Value\"]]\n",
    "spender_report"
   ]
  },
  {
   "cell_type": "code",
   "execution_count": null,
   "metadata": {
    "collapsed": true
   },
   "outputs": [],
   "source": []
  },
  {
   "cell_type": "code",
   "execution_count": null,
   "metadata": {
    "collapsed": true
   },
   "outputs": [],
   "source": []
  }
 ],
 "metadata": {
  "kernelspec": {
   "display_name": "Python [conda env:PythonData]",
   "language": "python",
   "name": "conda-env-PythonData-py"
  },
  "language_info": {
   "codemirror_mode": {
    "name": "ipython",
    "version": 3
   },
   "file_extension": ".py",
   "mimetype": "text/x-python",
   "name": "python",
   "nbconvert_exporter": "python",
   "pygments_lexer": "ipython3",
   "version": "3.6.3"
  }
 },
 "nbformat": 4,
 "nbformat_minor": 2
}
