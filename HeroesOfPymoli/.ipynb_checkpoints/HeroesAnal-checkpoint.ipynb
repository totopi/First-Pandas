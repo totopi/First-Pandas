{
 "cells": [
  {
   "cell_type": "code",
   "execution_count": 2,
   "metadata": {
    "collapsed": true
   },
   "outputs": [],
   "source": [
    "# Dependencies\n",
    "import pandas as pd\n",
    "import numpy as np"
   ]
  },
  {
   "cell_type": "code",
   "execution_count": 3,
   "metadata": {
    "collapsed": true
   },
   "outputs": [],
   "source": [
    "# Import files using pandas\n",
    "items_df = pd.read_csv(\"generated_data\\items_complete.csv\")\n",
    "players_df = pd.read_csv(\"generated_data\\players_complete.csv\")\n",
    "purchase_df = pd.read_csv(\"generated_data\\purchase_data_3.csv\")"
   ]
  },
  {
   "cell_type": "code",
   "execution_count": 4,
   "metadata": {
    "collapsed": true
   },
   "outputs": [],
   "source": [
    "# Get the total number of players with .count(), using SN column b/c its short\n",
    "player_count = players_df[\"SN\"].count()"
   ]
  },
  {
   "cell_type": "code",
   "execution_count": 5,
   "metadata": {
    "collapsed": true
   },
   "outputs": [],
   "source": [
    "# Get the total count of unique items with len() since .unique() returns a list\n",
    "unique_item_count = len(items_df[\"Item Name\"].unique())"
   ]
  },
  {
   "cell_type": "code",
   "execution_count": 6,
   "metadata": {
    "collapsed": true
   },
   "outputs": [],
   "source": [
    "# Get the average purchase price by dividing the sum of the price column by total number of items\n",
    "average_purchase_price = purchase_df[\"Price\"].sum() / len(purchase_df[\"Price\"])"
   ]
  },
  {
   "cell_type": "code",
   "execution_count": 7,
   "metadata": {},
   "outputs": [],
   "source": [
    "# Get the total number of purchases\n",
    "total_purchases = purchase_df[\"Price\"].count()"
   ]
  },
  {
   "cell_type": "code",
   "execution_count": 8,
   "metadata": {},
   "outputs": [],
   "source": [
    "# Get total revenue by taking price from purchase and subtracting price from item\n",
    "# join table -> do more stuff\n",
    "#purchase_items_joined_df = pd.merge(purchase_df, items_df, on=\"Item ID\")\n",
    "#purchase_items_joined_df = purchase_items_joined_df.rename(columns={\"Item Name_x\": \"Item Name(Purchase)\",\n",
    "#                                                                   \"Price_x\": \"Purchase Price\",\n",
    "#                                                                   \"Item Name_y\": \"Item Name(Stock)\",\n",
    "#                                                                   \"Price_y\": \"MSRP\"})\n",
    "#purchase_items_joined_df[\"Revenue\"] = purchase_items_joined_df[\"Purchase Price\"] - purchase_items_joined_df[\"MSRP\"]\n",
    "#purchase_items_joined_df.head() FFFFFFFF I SHOULD'VE CHECKED THE GENERATOR CODE TO SEE IF THE PRICE WAS DIFFERENT\n",
    "# OK actually just add up the revenue from the purchase_df\n",
    "total_revenue = purchase_df[\"Price\"].sum()"
   ]
  },
  {
   "cell_type": "code",
   "execution_count": 9,
   "metadata": {},
   "outputs": [
    {
     "data": {
      "text/plain": [
       "'82.03%'"
      ]
     },
     "execution_count": 9,
     "metadata": {},
     "output_type": "execute_result"
    }
   ],
   "source": [
    "# Get % and # of male players\n",
    "number_male = len(players_df.loc[players_df[\"Gender\"] == \"Male\",:])\n",
    "\n",
    "percent_male = (number_male / player_count)\n",
    "percent_male = \"{:.2%}\".format(percent_male)\n",
    "percent_male"
   ]
  },
  {
   "cell_type": "code",
   "execution_count": 10,
   "metadata": {},
   "outputs": [
    {
     "data": {
      "text/plain": [
       "'16.08%'"
      ]
     },
     "execution_count": 10,
     "metadata": {},
     "output_type": "execute_result"
    }
   ],
   "source": [
    "# Get % and # of female players\n",
    "number_female = len(players_df.loc[players_df[\"Gender\"] == \"Female\",:])\n",
    "\n",
    "percent_female = (number_female / player_count)\n",
    "percent_female = \"{:.2%}\".format(percent_female)\n",
    "percent_female"
   ]
  },
  {
   "cell_type": "code",
   "execution_count": 11,
   "metadata": {},
   "outputs": [
    {
     "data": {
      "text/plain": [
       "'1.89%'"
      ]
     },
     "execution_count": 11,
     "metadata": {},
     "output_type": "execute_result"
    }
   ],
   "source": [
    "# Get % and # of other / non-disclosed players\n",
    "number_other = len(players_df.loc[players_df[\"Gender\"] == \"Other / Non-Disclosed\",:])\n",
    "\n",
    "percent_other = (number_other / player_count)\n",
    "percent_other = \"{:.2%}\".format(percent_other)\n",
    "percent_other"
   ]
  },
  {
   "cell_type": "code",
   "execution_count": 12,
   "metadata": {
    "collapsed": true
   },
   "outputs": [],
   "source": [
    "# Set up some dataframes etc to use for purchase analysis\n",
    "male_df = purchase_df.loc[purchase_df[\"Gender\"] == \"Male\",:]\n",
    "female_df = purchase_df.loc[purchase_df[\"Gender\"] == \"Female\",:]\n",
    "other_df = purchase_df.loc[purchase_df[\"Gender\"] == \"Other / Non-Disclosed\",:]"
   ]
  },
  {
   "cell_type": "code",
   "execution_count": 13,
   "metadata": {
    "collapsed": true
   },
   "outputs": [],
   "source": [
    "# Get purchase count broken by gender\n",
    "male_purchase = len(male_df)\n",
    "female_purchase = len(female_df)\n",
    "other_purchase = len(other_df)"
   ]
  },
  {
   "cell_type": "code",
   "execution_count": 14,
   "metadata": {
    "collapsed": true
   },
   "outputs": [],
   "source": [
    "# Get total purchase value broken by gender\n",
    "male_total_value = male_df[\"Price\"].sum()\n",
    "female_total_value = female_df[\"Price\"].sum()\n",
    "other_total_value = other_df[\"Price\"].sum()"
   ]
  },
  {
   "cell_type": "code",
   "execution_count": 15,
   "metadata": {},
   "outputs": [],
   "source": [
    "# Get average purchase price broken by gender\n",
    "male_average_price = male_total_value / male_purchase\n",
    "\n",
    "female_average_price = female_total_value / female_purchase\n",
    "\n",
    "other_average_price = other_total_value / other_purchase"
   ]
  },
  {
   "cell_type": "code",
   "execution_count": 16,
   "metadata": {
    "collapsed": true
   },
   "outputs": [],
   "source": [
    "# Get normalized totals broken by gender, with code repurposed from stackoverflow\n",
    "male_purchase_normalized = (male_df[\"Price\"] - male_df[\"Price\"].mean()) / (male_df[\"Price\"].max() - male_df[\"Price\"].min())\n",
    "male_purchase_normalized_total = male_purchase_normalized.sum()\n",
    "\n",
    "female_purchase_normalized = (female_df[\"Price\"] - female_df[\"Price\"].mean()) / (female_df[\"Price\"].max() - female_df[\"Price\"].min())\n",
    "female_purchase_normalized_total = female_purchase_normalized.sum()\n",
    "\n",
    "other_purchase_normalized = (other_df[\"Price\"] - other_df[\"Price\"].mean()) / (other_df[\"Price\"].max() - other_df[\"Price\"].min())\n",
    "other_purchase_normalized_total = other_purchase_normalized.sum()"
   ]
  },
  {
   "cell_type": "code",
   "execution_count": 24,
   "metadata": {},
   "outputs": [],
   "source": [
    "# Get purchase count by age in bins of 4 years\n",
    "# first join purchase and players tables and clean it\n",
    "players_purchase_joined_df = pd.merge(purchase_df, players_df, on=\"SN\")\n",
    "players_purchase_joined_df = players_purchase_joined_df.rename(columns={\"Age_x\": \"Age\",\n",
    "                                                                       \"Gender_x\": \"Gender\"})\n",
    "players_purchase_joined_clean_df = players_purchase_joined_df[[\"Purchase ID\",\n",
    "                                                             \"SN\",\n",
    "                                                             \"Age\",\n",
    "                                                             \"Gender\",\n",
    "                                                             \"Item ID\",\n",
    "                                                             \"Item Name\",\n",
    "                                                             \"Price\",\n",
    "                                                             \"Player ID\"]]"
   ]
  },
  {
   "cell_type": "code",
   "execution_count": 91,
   "metadata": {},
   "outputs": [
    {
     "data": {
      "text/html": [
       "<div>\n",
       "<style>\n",
       "    .dataframe thead tr:only-child th {\n",
       "        text-align: right;\n",
       "    }\n",
       "\n",
       "    .dataframe thead th {\n",
       "        text-align: left;\n",
       "    }\n",
       "\n",
       "    .dataframe tbody tr th {\n",
       "        vertical-align: top;\n",
       "    }\n",
       "</style>\n",
       "<table border=\"1\" class=\"dataframe\">\n",
       "  <thead>\n",
       "    <tr style=\"text-align: right;\">\n",
       "      <th></th>\n",
       "      <th>Purchase ID</th>\n",
       "      <th>SN</th>\n",
       "      <th>Age</th>\n",
       "      <th>Gender</th>\n",
       "      <th>Item ID</th>\n",
       "      <th>Item Name</th>\n",
       "      <th>Price</th>\n",
       "    </tr>\n",
       "  </thead>\n",
       "  <tbody>\n",
       "    <tr>\n",
       "      <th>0</th>\n",
       "      <td>0</td>\n",
       "      <td>Iloni35</td>\n",
       "      <td>20</td>\n",
       "      <td>Male</td>\n",
       "      <td>93</td>\n",
       "      <td>Apocalyptic Battlescythe</td>\n",
       "      <td>4.49</td>\n",
       "    </tr>\n",
       "    <tr>\n",
       "      <th>1</th>\n",
       "      <td>1</td>\n",
       "      <td>Aidaira26</td>\n",
       "      <td>21</td>\n",
       "      <td>Male</td>\n",
       "      <td>12</td>\n",
       "      <td>Dawne</td>\n",
       "      <td>3.36</td>\n",
       "    </tr>\n",
       "    <tr>\n",
       "      <th>2</th>\n",
       "      <td>2</td>\n",
       "      <td>Irim47</td>\n",
       "      <td>17</td>\n",
       "      <td>Male</td>\n",
       "      <td>5</td>\n",
       "      <td>Putrid Fan</td>\n",
       "      <td>2.63</td>\n",
       "    </tr>\n",
       "    <tr>\n",
       "      <th>3</th>\n",
       "      <td>3</td>\n",
       "      <td>Irith83</td>\n",
       "      <td>17</td>\n",
       "      <td>Male</td>\n",
       "      <td>123</td>\n",
       "      <td>Twilight's Carver</td>\n",
       "      <td>2.55</td>\n",
       "    </tr>\n",
       "    <tr>\n",
       "      <th>4</th>\n",
       "      <td>4</td>\n",
       "      <td>Philodil43</td>\n",
       "      <td>22</td>\n",
       "      <td>Male</td>\n",
       "      <td>154</td>\n",
       "      <td>Feral Katana</td>\n",
       "      <td>4.11</td>\n",
       "    </tr>\n",
       "  </tbody>\n",
       "</table>\n",
       "</div>"
      ],
      "text/plain": [
       "   Purchase ID          SN  Age Gender  Item ID                 Item Name  \\\n",
       "0            0     Iloni35   20   Male       93  Apocalyptic Battlescythe   \n",
       "1            1   Aidaira26   21   Male       12                     Dawne   \n",
       "2            2      Irim47   17   Male        5                Putrid Fan   \n",
       "3            3     Irith83   17   Male      123         Twilight's Carver   \n",
       "4            4  Philodil43   22   Male      154              Feral Katana   \n",
       "\n",
       "   Price  \n",
       "0   4.49  \n",
       "1   3.36  \n",
       "2   2.63  \n",
       "3   2.55  \n",
       "4   4.11  "
      ]
     },
     "execution_count": 91,
     "metadata": {},
     "output_type": "execute_result"
    }
   ],
   "source": [
    "purchase_df.head()"
   ]
  },
  {
   "cell_type": "code",
   "execution_count": 44,
   "metadata": {},
   "outputs": [
    {
     "data": {
      "text/html": [
       "<div>\n",
       "<style>\n",
       "    .dataframe thead tr:only-child th {\n",
       "        text-align: right;\n",
       "    }\n",
       "\n",
       "    .dataframe thead th {\n",
       "        text-align: left;\n",
       "    }\n",
       "\n",
       "    .dataframe tbody tr th {\n",
       "        vertical-align: top;\n",
       "    }\n",
       "</style>\n",
       "<table border=\"1\" class=\"dataframe\">\n",
       "  <thead>\n",
       "    <tr style=\"text-align: right;\">\n",
       "      <th></th>\n",
       "      <th>Item ID</th>\n",
       "      <th>Item Name</th>\n",
       "      <th>Price</th>\n",
       "    </tr>\n",
       "  </thead>\n",
       "  <tbody>\n",
       "    <tr>\n",
       "      <th>0</th>\n",
       "      <td>0</td>\n",
       "      <td>Splinter</td>\n",
       "      <td>1.89</td>\n",
       "    </tr>\n",
       "  </tbody>\n",
       "</table>\n",
       "</div>"
      ],
      "text/plain": [
       "   Item ID Item Name  Price\n",
       "0        0  Splinter   1.89"
      ]
     },
     "execution_count": 44,
     "metadata": {},
     "output_type": "execute_result"
    }
   ],
   "source": [
    "items_df.head(1)"
   ]
  },
  {
   "cell_type": "code",
   "execution_count": 79,
   "metadata": {},
   "outputs": [
    {
     "data": {
      "text/html": [
       "<div>\n",
       "<style>\n",
       "    .dataframe thead tr:only-child th {\n",
       "        text-align: right;\n",
       "    }\n",
       "\n",
       "    .dataframe thead th {\n",
       "        text-align: left;\n",
       "    }\n",
       "\n",
       "    .dataframe tbody tr th {\n",
       "        vertical-align: top;\n",
       "    }\n",
       "</style>\n",
       "<table border=\"1\" class=\"dataframe\">\n",
       "  <thead>\n",
       "    <tr style=\"text-align: right;\">\n",
       "      <th></th>\n",
       "      <th>Player ID</th>\n",
       "      <th>SN</th>\n",
       "      <th>Age</th>\n",
       "      <th>Gender</th>\n",
       "    </tr>\n",
       "  </thead>\n",
       "  <tbody>\n",
       "    <tr>\n",
       "      <th>0</th>\n",
       "      <td>0</td>\n",
       "      <td>Marughi89</td>\n",
       "      <td>21</td>\n",
       "      <td>Male</td>\n",
       "    </tr>\n",
       "    <tr>\n",
       "      <th>1</th>\n",
       "      <td>1</td>\n",
       "      <td>Lirtedy26</td>\n",
       "      <td>40</td>\n",
       "      <td>Male</td>\n",
       "    </tr>\n",
       "    <tr>\n",
       "      <th>2</th>\n",
       "      <td>2</td>\n",
       "      <td>Chamistast30</td>\n",
       "      <td>7</td>\n",
       "      <td>Male</td>\n",
       "    </tr>\n",
       "    <tr>\n",
       "      <th>3</th>\n",
       "      <td>3</td>\n",
       "      <td>Lisirra25</td>\n",
       "      <td>24</td>\n",
       "      <td>Male</td>\n",
       "    </tr>\n",
       "    <tr>\n",
       "      <th>4</th>\n",
       "      <td>4</td>\n",
       "      <td>Lirtim36</td>\n",
       "      <td>23</td>\n",
       "      <td>Male</td>\n",
       "    </tr>\n",
       "    <tr>\n",
       "      <th>5</th>\n",
       "      <td>5</td>\n",
       "      <td>Undimsya85</td>\n",
       "      <td>17</td>\n",
       "      <td>Female</td>\n",
       "    </tr>\n",
       "    <tr>\n",
       "      <th>6</th>\n",
       "      <td>6</td>\n",
       "      <td>Lirtassa77</td>\n",
       "      <td>20</td>\n",
       "      <td>Female</td>\n",
       "    </tr>\n",
       "    <tr>\n",
       "      <th>7</th>\n",
       "      <td>7</td>\n",
       "      <td>Mindirra92</td>\n",
       "      <td>23</td>\n",
       "      <td>Male</td>\n",
       "    </tr>\n",
       "    <tr>\n",
       "      <th>8</th>\n",
       "      <td>8</td>\n",
       "      <td>Undirrasta89</td>\n",
       "      <td>23</td>\n",
       "      <td>Male</td>\n",
       "    </tr>\n",
       "    <tr>\n",
       "      <th>9</th>\n",
       "      <td>9</td>\n",
       "      <td>Iskjaskst81</td>\n",
       "      <td>15</td>\n",
       "      <td>Male</td>\n",
       "    </tr>\n",
       "  </tbody>\n",
       "</table>\n",
       "</div>"
      ],
      "text/plain": [
       "   Player ID            SN  Age  Gender\n",
       "0          0     Marughi89   21    Male\n",
       "1          1     Lirtedy26   40    Male\n",
       "2          2  Chamistast30    7    Male\n",
       "3          3     Lisirra25   24    Male\n",
       "4          4      Lirtim36   23    Male\n",
       "5          5    Undimsya85   17  Female\n",
       "6          6    Lirtassa77   20  Female\n",
       "7          7    Mindirra92   23    Male\n",
       "8          8  Undirrasta89   23    Male\n",
       "9          9   Iskjaskst81   15    Male"
      ]
     },
     "execution_count": 79,
     "metadata": {},
     "output_type": "execute_result"
    }
   ],
   "source": [
    "players_df.head(10)"
   ]
  },
  {
   "cell_type": "code",
   "execution_count": null,
   "metadata": {
    "collapsed": true
   },
   "outputs": [],
   "source": [
    "# Things to do\n",
    "#PLAYER COUNT\n",
    "# - Total Number of Players\n",
    "#PURCHASING ANALYSIS(TOTAL)\n",
    "# - Number of Unique Items\n",
    "# - Average Purchase Price\n",
    "# - Total Number of Purchases\n",
    "# - Total Revenue\n",
    "#GENDER DEMOGRAPHICS\n",
    "# - Percentage and Count of Male Players\n",
    "# - Percentage and Count of Female Players\n",
    "# - Percentage and Count of Other / Non-Disclosed\n",
    "#PURCHASING ANALYSIS (GENDER)\n",
    "#>broken by gender\n",
    "# - Purchase Count\n",
    "# - Average Purchase Price\n",
    "# - Total Purchase Value\n",
    "# - Normalized Totals\n",
    "#AGE DEMOGRAPHICS\n",
    "#>broken into bins of 4 years (ie <10, 10-14, 15-19,...)\n",
    "# - Purchase Count\n",
    "#TOP SPENDERS\n",
    "#MOST POPULAR ITEMS\n",
    "#MOST PROFITABLE ITEMS"
   ]
  }
 ],
 "metadata": {
  "kernelspec": {
   "display_name": "Python [conda env:PythonData]",
   "language": "python",
   "name": "conda-env-PythonData-py"
  },
  "language_info": {
   "codemirror_mode": {
    "name": "ipython",
    "version": 3
   },
   "file_extension": ".py",
   "mimetype": "text/x-python",
   "name": "python",
   "nbconvert_exporter": "python",
   "pygments_lexer": "ipython3",
   "version": "3.6.3"
  }
 },
 "nbformat": 4,
 "nbformat_minor": 2
}
