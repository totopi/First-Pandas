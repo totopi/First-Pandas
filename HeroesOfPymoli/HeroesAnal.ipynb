{
 "cells": [
  {
   "cell_type": "code",
   "execution_count": 2,
   "metadata": {
    "collapsed": true
   },
   "outputs": [],
   "source": [
    "# Dependencies\n",
    "import pandas as pd\n",
    "import numpy as np"
   ]
  },
  {
   "cell_type": "code",
   "execution_count": 3,
   "metadata": {
    "collapsed": true
   },
   "outputs": [],
   "source": [
    "# Import files using pandas\n",
    "items_df = pd.read_csv(\"generated_data\\items_complete.csv\")\n",
    "players_df = pd.read_csv(\"generated_data\\players_complete.csv\")\n",
    "purchase_df = pd.read_csv(\"generated_data\\purchase_data_3.csv\")"
   ]
  },
  {
   "cell_type": "code",
   "execution_count": 4,
   "metadata": {
    "collapsed": true
   },
   "outputs": [],
   "source": [
    "# Get the total number of players with .count(), using SN column b/c its short\n",
    "player_count = players_df[\"SN\"].count()"
   ]
  },
  {
   "cell_type": "code",
   "execution_count": 5,
   "metadata": {
    "collapsed": true
   },
   "outputs": [],
   "source": [
    "# Get the total count of unique items with len() since .unique() returns a list\n",
    "unique_item_count = len(items_df[\"Item Name\"].unique())"
   ]
  },
  {
   "cell_type": "code",
   "execution_count": 6,
   "metadata": {
    "collapsed": true
   },
   "outputs": [],
   "source": [
    "# Get the average purchase price by dividing the sum of the price column by total number of items\n",
    "average_purchase_price = purchase_df[\"Price\"].sum() / len(purchase_df[\"Price\"])"
   ]
  },
  {
   "cell_type": "code",
   "execution_count": 7,
   "metadata": {},
   "outputs": [],
   "source": [
    "# Get the total number of purchases\n",
    "total_purchases = purchase_df[\"Price\"].count()"
   ]
  },
  {
   "cell_type": "code",
   "execution_count": 41,
   "metadata": {},
   "outputs": [
    {
     "data": {
      "text/plain": [
       "228.0999999999999"
      ]
     },
     "execution_count": 41,
     "metadata": {},
     "output_type": "execute_result"
    }
   ],
   "source": [
    "# Get total revenue by taking price from purchase and subtracting price from item\n",
    "# join table -> do more stuff\n",
    "#purchase_items_joined_df = pd.merge(purchase_df, items_df, on=\"Item ID\")\n",
    "#purchase_items_joined_df = purchase_items_joined_df.rename(columns={\"Item Name_x\": \"Item Name(Purchase)\",\n",
    "#                                                                   \"Price_x\": \"Purchase Price\",\n",
    "#                                                                   \"Item Name_y\": \"Item Name(Stock)\",\n",
    "#                                                                   \"Price_y\": \"MSRP\"})\n",
    "#purchase_items_joined_df[\"Revenue\"] = purchase_items_joined_df[\"Purchase Price\"] - purchase_items_joined_df[\"MSRP\"]\n",
    "#purchase_items_joined_df.head() FFFFFFFF I SHOULD'VE CHECKED THE GENERATOR CODE TO SEE IF THE PRICE WAS DIFFERENT\n",
    "# OK actually just add up the revenue from the purchase_df\n",
    "total_revenue = purchase_df[\"Price\"].sum()"
   ]
  },
  {
   "cell_type": "code",
   "execution_count": 9,
   "metadata": {},
   "outputs": [
    {
     "data": {
      "text/plain": [
       "'82.03%'"
      ]
     },
     "execution_count": 9,
     "metadata": {},
     "output_type": "execute_result"
    }
   ],
   "source": [
    "# Get % and # of male players\n",
    "number_male = len(players_df.loc[players_df[\"Gender\"] == \"Male\",:])\n",
    "\n",
    "percent_male = (number_male / player_count)\n",
    "percent_male = \"{:.2%}\".format(percent_male)\n",
    "percent_male"
   ]
  },
  {
   "cell_type": "code",
   "execution_count": 10,
   "metadata": {},
   "outputs": [
    {
     "data": {
      "text/plain": [
       "'16.08%'"
      ]
     },
     "execution_count": 10,
     "metadata": {},
     "output_type": "execute_result"
    }
   ],
   "source": [
    "# Get % and # of female players\n",
    "number_female = len(players_df.loc[players_df[\"Gender\"] == \"Female\",:])\n",
    "\n",
    "percent_female = (number_female / player_count)\n",
    "percent_female = \"{:.2%}\".format(percent_female)\n",
    "percent_female"
   ]
  },
  {
   "cell_type": "code",
   "execution_count": 11,
   "metadata": {},
   "outputs": [
    {
     "data": {
      "text/plain": [
       "'1.89%'"
      ]
     },
     "execution_count": 11,
     "metadata": {},
     "output_type": "execute_result"
    }
   ],
   "source": [
    "# Get % and # of other / non-disclosed players\n",
    "number_other = len(players_df.loc[players_df[\"Gender\"] == \"Other / Non-Disclosed\",:])\n",
    "\n",
    "percent_other = (number_other / player_count)\n",
    "percent_other = \"{:.2%}\".format(percent_other)\n",
    "percent_other"
   ]
  },
  {
   "cell_type": "code",
   "execution_count": 12,
   "metadata": {
    "collapsed": true
   },
   "outputs": [],
   "source": [
    "# Set up some dataframes etc to use for purchase analysis\n",
    "male_df = purchase_df.loc[purchase_df[\"Gender\"] == \"Male\",:]\n",
    "female_df = purchase_df.loc[purchase_df[\"Gender\"] == \"Female\",:]\n",
    "other_df = purchase_df.loc[purchase_df[\"Gender\"] == \"Other / Non-Disclosed\",:]"
   ]
  },
  {
   "cell_type": "code",
   "execution_count": 13,
   "metadata": {
    "collapsed": true
   },
   "outputs": [],
   "source": [
    "# Get purchase count broken by gender\n",
    "male_purchase = len(male_df)\n",
    "female_purchase = len(female_df)\n",
    "other_purchase = len(other_df)"
   ]
  },
  {
   "cell_type": "code",
   "execution_count": 14,
   "metadata": {
    "collapsed": true
   },
   "outputs": [],
   "source": [
    "# Get total purchase value broken by gender\n",
    "male_total_value = male_df[\"Price\"].sum()\n",
    "female_total_value = female_df[\"Price\"].sum()\n",
    "other_total_value = other_df[\"Price\"].sum()"
   ]
  },
  {
   "cell_type": "code",
   "execution_count": 15,
   "metadata": {},
   "outputs": [],
   "source": [
    "# Get average purchase price broken by gender\n",
    "male_average_price = male_total_value / male_purchase\n",
    "\n",
    "female_average_price = female_total_value / female_purchase\n",
    "\n",
    "other_average_price = other_total_value / other_purchase"
   ]
  },
  {
   "cell_type": "code",
   "execution_count": 16,
   "metadata": {
    "collapsed": true
   },
   "outputs": [],
   "source": [
    "# Get normalized totals broken by gender, with code repurposed from stackoverflow\n",
    "male_purchase_normalized = (male_df[\"Price\"] - male_df[\"Price\"].mean()) / (male_df[\"Price\"].max() - male_df[\"Price\"].min())\n",
    "male_purchase_normalized_total = male_purchase_normalized.sum()\n",
    "\n",
    "female_purchase_normalized = (female_df[\"Price\"] - female_df[\"Price\"].mean()) / (female_df[\"Price\"].max() - female_df[\"Price\"].min())\n",
    "female_purchase_normalized_total = female_purchase_normalized.sum()\n",
    "\n",
    "other_purchase_normalized = (other_df[\"Price\"] - other_df[\"Price\"].mean()) / (other_df[\"Price\"].max() - other_df[\"Price\"].min())\n",
    "other_purchase_normalized_total = other_purchase_normalized.sum()"
   ]
  },
  {
   "cell_type": "code",
   "execution_count": 26,
   "metadata": {},
   "outputs": [
    {
     "data": {
      "text/html": [
       "<div>\n",
       "<style>\n",
       "    .dataframe thead tr:only-child th {\n",
       "        text-align: right;\n",
       "    }\n",
       "\n",
       "    .dataframe thead th {\n",
       "        text-align: left;\n",
       "    }\n",
       "\n",
       "    .dataframe tbody tr th {\n",
       "        vertical-align: top;\n",
       "    }\n",
       "</style>\n",
       "<table border=\"1\" class=\"dataframe\">\n",
       "  <thead>\n",
       "    <tr style=\"text-align: right;\">\n",
       "      <th></th>\n",
       "      <th>Purchase ID</th>\n",
       "      <th>SN</th>\n",
       "      <th>Age</th>\n",
       "      <th>Gender</th>\n",
       "      <th>Item ID</th>\n",
       "      <th>Item Name</th>\n",
       "      <th>Price</th>\n",
       "      <th>Player ID</th>\n",
       "    </tr>\n",
       "  </thead>\n",
       "  <tbody>\n",
       "    <tr>\n",
       "      <th>0</th>\n",
       "      <td>0</td>\n",
       "      <td>Iloni35</td>\n",
       "      <td>20</td>\n",
       "      <td>Male</td>\n",
       "      <td>93</td>\n",
       "      <td>Apocalyptic Battlescythe</td>\n",
       "      <td>4.49</td>\n",
       "      <td>137</td>\n",
       "    </tr>\n",
       "  </tbody>\n",
       "</table>\n",
       "</div>"
      ],
      "text/plain": [
       "   Purchase ID       SN  Age Gender  Item ID                 Item Name  Price  \\\n",
       "0            0  Iloni35   20   Male       93  Apocalyptic Battlescythe   4.49   \n",
       "\n",
       "   Player ID  \n",
       "0        137  "
      ]
     },
     "execution_count": 26,
     "metadata": {},
     "output_type": "execute_result"
    }
   ],
   "source": [
    "# Prepare to analyze age demographics\n",
    "# first join purchase and players tables and clean it\n",
    "players_purchase_joined_df = pd.merge(purchase_df, players_df, on=\"SN\")\n",
    "players_purchase_joined_df = players_purchase_joined_df.rename(columns={\"Age_x\": \"Age\",\n",
    "                                                                       \"Gender_x\": \"Gender\"})\n",
    "players_purchase_joined_clean_df = players_purchase_joined_df[[\"Purchase ID\",\n",
    "                                                             \"SN\",\n",
    "                                                             \"Age\",\n",
    "                                                             \"Gender\",\n",
    "                                                             \"Item ID\",\n",
    "                                                             \"Item Name\",\n",
    "                                                             \"Price\",\n",
    "                                                             \"Player ID\"]]\n",
    "players_purchase_joined_clean_df.head(1)"
   ]
  },
  {
   "cell_type": "code",
   "execution_count": 30,
   "metadata": {},
   "outputs": [
    {
     "name": "stderr",
     "output_type": "stream",
     "text": [
      "c:\\users\\t0nb3\\Anaconda3\\envs\\PythonData\\lib\\site-packages\\ipykernel\\__main__.py:4: SettingWithCopyWarning: \n",
      "A value is trying to be set on a copy of a slice from a DataFrame.\n",
      "Try using .loc[row_indexer,col_indexer] = value instead\n",
      "\n",
      "See the caveats in the documentation: http://pandas.pydata.org/pandas-docs/stable/indexing.html#indexing-view-versus-copy\n"
     ]
    },
    {
     "data": {
      "text/html": [
       "<div>\n",
       "<style>\n",
       "    .dataframe thead tr:only-child th {\n",
       "        text-align: right;\n",
       "    }\n",
       "\n",
       "    .dataframe thead th {\n",
       "        text-align: left;\n",
       "    }\n",
       "\n",
       "    .dataframe tbody tr th {\n",
       "        vertical-align: top;\n",
       "    }\n",
       "</style>\n",
       "<table border=\"1\" class=\"dataframe\">\n",
       "  <thead>\n",
       "    <tr style=\"text-align: right;\">\n",
       "      <th></th>\n",
       "      <th>Purchase ID</th>\n",
       "      <th>SN</th>\n",
       "      <th>Age</th>\n",
       "      <th>Gender</th>\n",
       "      <th>Item ID</th>\n",
       "      <th>Item Name</th>\n",
       "      <th>Price</th>\n",
       "      <th>Player ID</th>\n",
       "      <th>Age Groups</th>\n",
       "    </tr>\n",
       "  </thead>\n",
       "  <tbody>\n",
       "    <tr>\n",
       "      <th>0</th>\n",
       "      <td>0</td>\n",
       "      <td>Iloni35</td>\n",
       "      <td>20</td>\n",
       "      <td>Male</td>\n",
       "      <td>93</td>\n",
       "      <td>Apocalyptic Battlescythe</td>\n",
       "      <td>4.49</td>\n",
       "      <td>137</td>\n",
       "      <td>18-22</td>\n",
       "    </tr>\n",
       "    <tr>\n",
       "      <th>1</th>\n",
       "      <td>1</td>\n",
       "      <td>Aidaira26</td>\n",
       "      <td>21</td>\n",
       "      <td>Male</td>\n",
       "      <td>12</td>\n",
       "      <td>Dawne</td>\n",
       "      <td>3.36</td>\n",
       "      <td>799</td>\n",
       "      <td>18-22</td>\n",
       "    </tr>\n",
       "    <tr>\n",
       "      <th>2</th>\n",
       "      <td>68</td>\n",
       "      <td>Aidaira26</td>\n",
       "      <td>21</td>\n",
       "      <td>Male</td>\n",
       "      <td>82</td>\n",
       "      <td>Nirvana</td>\n",
       "      <td>1.77</td>\n",
       "      <td>799</td>\n",
       "      <td>18-22</td>\n",
       "    </tr>\n",
       "    <tr>\n",
       "      <th>3</th>\n",
       "      <td>2</td>\n",
       "      <td>Irim47</td>\n",
       "      <td>17</td>\n",
       "      <td>Male</td>\n",
       "      <td>5</td>\n",
       "      <td>Putrid Fan</td>\n",
       "      <td>2.63</td>\n",
       "      <td>963</td>\n",
       "      <td>14-18</td>\n",
       "    </tr>\n",
       "    <tr>\n",
       "      <th>4</th>\n",
       "      <td>3</td>\n",
       "      <td>Irith83</td>\n",
       "      <td>17</td>\n",
       "      <td>Male</td>\n",
       "      <td>123</td>\n",
       "      <td>Twilight's Carver</td>\n",
       "      <td>2.55</td>\n",
       "      <td>843</td>\n",
       "      <td>14-18</td>\n",
       "    </tr>\n",
       "  </tbody>\n",
       "</table>\n",
       "</div>"
      ],
      "text/plain": [
       "   Purchase ID         SN  Age Gender  Item ID                 Item Name  \\\n",
       "0            0    Iloni35   20   Male       93  Apocalyptic Battlescythe   \n",
       "1            1  Aidaira26   21   Male       12                     Dawne   \n",
       "2           68  Aidaira26   21   Male       82                   Nirvana   \n",
       "3            2     Irim47   17   Male        5                Putrid Fan   \n",
       "4            3    Irith83   17   Male      123         Twilight's Carver   \n",
       "\n",
       "   Price  Player ID Age Groups  \n",
       "0   4.49        137      18-22  \n",
       "1   3.36        799      18-22  \n",
       "2   1.77        799      18-22  \n",
       "3   2.63        963      14-18  \n",
       "4   2.55        843      14-18  "
      ]
     },
     "execution_count": 30,
     "metadata": {},
     "output_type": "execute_result"
    }
   ],
   "source": [
    "# make bins and group names\n",
    "bins = [0, 10, 14, 18, 22, 26, 30, 34, 38, 200]\n",
    "bin_names = [\"< 10\", \"10-14\", \"14-18\", \"18-22\", \"22-26\", \"26-30\", \"30-34\", \"34-38\", \"38+\"]\n",
    "players_purchase_joined_clean_df[\"Age Groups\"] = pd.cut(players_purchase_joined_clean_df[\"Age\"], bins, labels=bin_names)\n",
    "players_purchase_joined_clean_df.head()"
   ]
  },
  {
   "cell_type": "code",
   "execution_count": 37,
   "metadata": {},
   "outputs": [],
   "source": [
    "# Create a dataframe grouped by age groups\n",
    "players_purchase_groups = players_purchase_joined_clean_df.groupby(\"Age Groups\")"
   ]
  },
  {
   "cell_type": "code",
   "execution_count": 38,
   "metadata": {},
   "outputs": [
    {
     "data": {
      "text/plain": [
       "Age Groups\n",
       "< 10      5\n",
       "10-14     3\n",
       "14-18    11\n",
       "18-22    21\n",
       "22-26    23\n",
       "26-30     4\n",
       "30-34     5\n",
       "34-38     5\n",
       "38+       2\n",
       "Name: Purchase ID, dtype: int64"
      ]
     },
     "execution_count": 38,
     "metadata": {},
     "output_type": "execute_result"
    }
   ],
   "source": [
    "# Get purchase count by age groups\n",
    "players_purchase_groups[\"Purchase ID\"].count()"
   ]
  },
  {
   "cell_type": "code",
   "execution_count": 39,
   "metadata": {},
   "outputs": [
    {
     "data": {
      "text/plain": [
       "Age Groups\n",
       "< 10     2.764000\n",
       "10-14    2.986667\n",
       "14-18    2.764545\n",
       "18-22    3.091905\n",
       "22-26    2.939565\n",
       "26-30    2.692500\n",
       "30-34    2.034000\n",
       "34-38    3.744000\n",
       "38+      3.650000\n",
       "Name: Price, dtype: float64"
      ]
     },
     "execution_count": 39,
     "metadata": {},
     "output_type": "execute_result"
    }
   ],
   "source": [
    "# Get average purchase price by age groups\n",
    "players_purchase_groups[\"Price\"].mean()"
   ]
  },
  {
   "cell_type": "code",
   "execution_count": 40,
   "metadata": {},
   "outputs": [
    {
     "data": {
      "text/plain": [
       "Age Groups\n",
       "< 10     13.82\n",
       "10-14     8.96\n",
       "14-18    30.41\n",
       "18-22    64.93\n",
       "22-26    67.61\n",
       "26-30    10.77\n",
       "30-34    10.17\n",
       "34-38    18.72\n",
       "38+       7.30\n",
       "Name: Price, dtype: float64"
      ]
     },
     "execution_count": 40,
     "metadata": {},
     "output_type": "execute_result"
    }
   ],
   "source": [
    "# Get total purchase value by age groups\n",
    "\n",
    "players_purchase_groups[\"Price\"].sum()"
   ]
  },
  {
   "cell_type": "code",
   "execution_count": 46,
   "metadata": {},
   "outputs": [
    {
     "data": {
      "text/html": [
       "<div>\n",
       "<style>\n",
       "    .dataframe thead tr:only-child th {\n",
       "        text-align: right;\n",
       "    }\n",
       "\n",
       "    .dataframe thead th {\n",
       "        text-align: left;\n",
       "    }\n",
       "\n",
       "    .dataframe tbody tr th {\n",
       "        vertical-align: top;\n",
       "    }\n",
       "</style>\n",
       "<table border=\"1\" class=\"dataframe\">\n",
       "  <thead>\n",
       "    <tr style=\"text-align: right;\">\n",
       "      <th></th>\n",
       "      <th>Purchase ID</th>\n",
       "      <th>Age</th>\n",
       "      <th>Item ID</th>\n",
       "      <th>Price</th>\n",
       "      <th>Player ID</th>\n",
       "    </tr>\n",
       "  </thead>\n",
       "  <tbody>\n",
       "    <tr>\n",
       "      <th>0</th>\n",
       "      <td>-1.717191</td>\n",
       "      <td>-0.925273</td>\n",
       "      <td>0.040706</td>\n",
       "      <td>1.346730</td>\n",
       "      <td>-0.912533</td>\n",
       "    </tr>\n",
       "    <tr>\n",
       "      <th>1</th>\n",
       "      <td>-1.674363</td>\n",
       "      <td>0.569399</td>\n",
       "      <td>-1.432511</td>\n",
       "      <td>0.258246</td>\n",
       "      <td>0.985438</td>\n",
       "    </tr>\n",
       "    <tr>\n",
       "      <th>2</th>\n",
       "      <td>1.195100</td>\n",
       "      <td>0.569399</td>\n",
       "      <td>-0.159360</td>\n",
       "      <td>-1.273339</td>\n",
       "      <td>0.985438</td>\n",
       "    </tr>\n",
       "    <tr>\n",
       "      <th>3</th>\n",
       "      <td>-1.281819</td>\n",
       "      <td>0.301511</td>\n",
       "      <td>-1.360140</td>\n",
       "      <td>-0.141295</td>\n",
       "      <td>0.658919</td>\n",
       "    </tr>\n",
       "    <tr>\n",
       "      <th>4</th>\n",
       "      <td>-1.241649</td>\n",
       "      <td>0.301511</td>\n",
       "      <td>0.456179</td>\n",
       "      <td>-0.225308</td>\n",
       "      <td>0.229189</td>\n",
       "    </tr>\n",
       "  </tbody>\n",
       "</table>\n",
       "</div>"
      ],
      "text/plain": [
       "   Purchase ID       Age   Item ID     Price  Player ID\n",
       "0    -1.717191 -0.925273  0.040706  1.346730  -0.912533\n",
       "1    -1.674363  0.569399 -1.432511  0.258246   0.985438\n",
       "2     1.195100  0.569399 -0.159360 -1.273339   0.985438\n",
       "3    -1.281819  0.301511 -1.360140 -0.141295   0.658919\n",
       "4    -1.241649  0.301511  0.456179 -0.225308   0.229189"
      ]
     },
     "execution_count": 46,
     "metadata": {},
     "output_type": "execute_result"
    }
   ],
   "source": [
    "# Get normalized totals by age groups\n",
    "#age_purchase_normalized = (players_purchase_groups[\"Price\"] - players_purchase_groups[\"Price\"].mean()) / (players_purchase_groups[\"Price\"].max() - players_purchase_groups[\"Price\"].min())\n",
    "#using more code taken from stackoverflow\n",
    "age_purchase_normalized = players_purchase_joined_clean_df.groupby(\"Age Groups\").transform(lambda x: (x - x.mean()) / x.std())\n",
    "age_purchase_normalized.head()"
   ]
  },
  {
   "cell_type": "code",
   "execution_count": 91,
   "metadata": {},
   "outputs": [
    {
     "data": {
      "text/html": [
       "<div>\n",
       "<style>\n",
       "    .dataframe thead tr:only-child th {\n",
       "        text-align: right;\n",
       "    }\n",
       "\n",
       "    .dataframe thead th {\n",
       "        text-align: left;\n",
       "    }\n",
       "\n",
       "    .dataframe tbody tr th {\n",
       "        vertical-align: top;\n",
       "    }\n",
       "</style>\n",
       "<table border=\"1\" class=\"dataframe\">\n",
       "  <thead>\n",
       "    <tr style=\"text-align: right;\">\n",
       "      <th></th>\n",
       "      <th>Purchase ID</th>\n",
       "      <th>SN</th>\n",
       "      <th>Age</th>\n",
       "      <th>Gender</th>\n",
       "      <th>Item ID</th>\n",
       "      <th>Item Name</th>\n",
       "      <th>Price</th>\n",
       "    </tr>\n",
       "  </thead>\n",
       "  <tbody>\n",
       "    <tr>\n",
       "      <th>0</th>\n",
       "      <td>0</td>\n",
       "      <td>Iloni35</td>\n",
       "      <td>20</td>\n",
       "      <td>Male</td>\n",
       "      <td>93</td>\n",
       "      <td>Apocalyptic Battlescythe</td>\n",
       "      <td>4.49</td>\n",
       "    </tr>\n",
       "    <tr>\n",
       "      <th>1</th>\n",
       "      <td>1</td>\n",
       "      <td>Aidaira26</td>\n",
       "      <td>21</td>\n",
       "      <td>Male</td>\n",
       "      <td>12</td>\n",
       "      <td>Dawne</td>\n",
       "      <td>3.36</td>\n",
       "    </tr>\n",
       "    <tr>\n",
       "      <th>2</th>\n",
       "      <td>2</td>\n",
       "      <td>Irim47</td>\n",
       "      <td>17</td>\n",
       "      <td>Male</td>\n",
       "      <td>5</td>\n",
       "      <td>Putrid Fan</td>\n",
       "      <td>2.63</td>\n",
       "    </tr>\n",
       "    <tr>\n",
       "      <th>3</th>\n",
       "      <td>3</td>\n",
       "      <td>Irith83</td>\n",
       "      <td>17</td>\n",
       "      <td>Male</td>\n",
       "      <td>123</td>\n",
       "      <td>Twilight's Carver</td>\n",
       "      <td>2.55</td>\n",
       "    </tr>\n",
       "    <tr>\n",
       "      <th>4</th>\n",
       "      <td>4</td>\n",
       "      <td>Philodil43</td>\n",
       "      <td>22</td>\n",
       "      <td>Male</td>\n",
       "      <td>154</td>\n",
       "      <td>Feral Katana</td>\n",
       "      <td>4.11</td>\n",
       "    </tr>\n",
       "  </tbody>\n",
       "</table>\n",
       "</div>"
      ],
      "text/plain": [
       "   Purchase ID          SN  Age Gender  Item ID                 Item Name  \\\n",
       "0            0     Iloni35   20   Male       93  Apocalyptic Battlescythe   \n",
       "1            1   Aidaira26   21   Male       12                     Dawne   \n",
       "2            2      Irim47   17   Male        5                Putrid Fan   \n",
       "3            3     Irith83   17   Male      123         Twilight's Carver   \n",
       "4            4  Philodil43   22   Male      154              Feral Katana   \n",
       "\n",
       "   Price  \n",
       "0   4.49  \n",
       "1   3.36  \n",
       "2   2.63  \n",
       "3   2.55  \n",
       "4   4.11  "
      ]
     },
     "execution_count": 91,
     "metadata": {},
     "output_type": "execute_result"
    }
   ],
   "source": [
    "purchase_df.head()"
   ]
  },
  {
   "cell_type": "code",
   "execution_count": 44,
   "metadata": {},
   "outputs": [
    {
     "data": {
      "text/html": [
       "<div>\n",
       "<style>\n",
       "    .dataframe thead tr:only-child th {\n",
       "        text-align: right;\n",
       "    }\n",
       "\n",
       "    .dataframe thead th {\n",
       "        text-align: left;\n",
       "    }\n",
       "\n",
       "    .dataframe tbody tr th {\n",
       "        vertical-align: top;\n",
       "    }\n",
       "</style>\n",
       "<table border=\"1\" class=\"dataframe\">\n",
       "  <thead>\n",
       "    <tr style=\"text-align: right;\">\n",
       "      <th></th>\n",
       "      <th>Item ID</th>\n",
       "      <th>Item Name</th>\n",
       "      <th>Price</th>\n",
       "    </tr>\n",
       "  </thead>\n",
       "  <tbody>\n",
       "    <tr>\n",
       "      <th>0</th>\n",
       "      <td>0</td>\n",
       "      <td>Splinter</td>\n",
       "      <td>1.89</td>\n",
       "    </tr>\n",
       "  </tbody>\n",
       "</table>\n",
       "</div>"
      ],
      "text/plain": [
       "   Item ID Item Name  Price\n",
       "0        0  Splinter   1.89"
      ]
     },
     "execution_count": 44,
     "metadata": {},
     "output_type": "execute_result"
    }
   ],
   "source": [
    "items_df.head(1)"
   ]
  },
  {
   "cell_type": "code",
   "execution_count": 79,
   "metadata": {},
   "outputs": [
    {
     "data": {
      "text/html": [
       "<div>\n",
       "<style>\n",
       "    .dataframe thead tr:only-child th {\n",
       "        text-align: right;\n",
       "    }\n",
       "\n",
       "    .dataframe thead th {\n",
       "        text-align: left;\n",
       "    }\n",
       "\n",
       "    .dataframe tbody tr th {\n",
       "        vertical-align: top;\n",
       "    }\n",
       "</style>\n",
       "<table border=\"1\" class=\"dataframe\">\n",
       "  <thead>\n",
       "    <tr style=\"text-align: right;\">\n",
       "      <th></th>\n",
       "      <th>Player ID</th>\n",
       "      <th>SN</th>\n",
       "      <th>Age</th>\n",
       "      <th>Gender</th>\n",
       "    </tr>\n",
       "  </thead>\n",
       "  <tbody>\n",
       "    <tr>\n",
       "      <th>0</th>\n",
       "      <td>0</td>\n",
       "      <td>Marughi89</td>\n",
       "      <td>21</td>\n",
       "      <td>Male</td>\n",
       "    </tr>\n",
       "    <tr>\n",
       "      <th>1</th>\n",
       "      <td>1</td>\n",
       "      <td>Lirtedy26</td>\n",
       "      <td>40</td>\n",
       "      <td>Male</td>\n",
       "    </tr>\n",
       "    <tr>\n",
       "      <th>2</th>\n",
       "      <td>2</td>\n",
       "      <td>Chamistast30</td>\n",
       "      <td>7</td>\n",
       "      <td>Male</td>\n",
       "    </tr>\n",
       "    <tr>\n",
       "      <th>3</th>\n",
       "      <td>3</td>\n",
       "      <td>Lisirra25</td>\n",
       "      <td>24</td>\n",
       "      <td>Male</td>\n",
       "    </tr>\n",
       "    <tr>\n",
       "      <th>4</th>\n",
       "      <td>4</td>\n",
       "      <td>Lirtim36</td>\n",
       "      <td>23</td>\n",
       "      <td>Male</td>\n",
       "    </tr>\n",
       "    <tr>\n",
       "      <th>5</th>\n",
       "      <td>5</td>\n",
       "      <td>Undimsya85</td>\n",
       "      <td>17</td>\n",
       "      <td>Female</td>\n",
       "    </tr>\n",
       "    <tr>\n",
       "      <th>6</th>\n",
       "      <td>6</td>\n",
       "      <td>Lirtassa77</td>\n",
       "      <td>20</td>\n",
       "      <td>Female</td>\n",
       "    </tr>\n",
       "    <tr>\n",
       "      <th>7</th>\n",
       "      <td>7</td>\n",
       "      <td>Mindirra92</td>\n",
       "      <td>23</td>\n",
       "      <td>Male</td>\n",
       "    </tr>\n",
       "    <tr>\n",
       "      <th>8</th>\n",
       "      <td>8</td>\n",
       "      <td>Undirrasta89</td>\n",
       "      <td>23</td>\n",
       "      <td>Male</td>\n",
       "    </tr>\n",
       "    <tr>\n",
       "      <th>9</th>\n",
       "      <td>9</td>\n",
       "      <td>Iskjaskst81</td>\n",
       "      <td>15</td>\n",
       "      <td>Male</td>\n",
       "    </tr>\n",
       "  </tbody>\n",
       "</table>\n",
       "</div>"
      ],
      "text/plain": [
       "   Player ID            SN  Age  Gender\n",
       "0          0     Marughi89   21    Male\n",
       "1          1     Lirtedy26   40    Male\n",
       "2          2  Chamistast30    7    Male\n",
       "3          3     Lisirra25   24    Male\n",
       "4          4      Lirtim36   23    Male\n",
       "5          5    Undimsya85   17  Female\n",
       "6          6    Lirtassa77   20  Female\n",
       "7          7    Mindirra92   23    Male\n",
       "8          8  Undirrasta89   23    Male\n",
       "9          9   Iskjaskst81   15    Male"
      ]
     },
     "execution_count": 79,
     "metadata": {},
     "output_type": "execute_result"
    }
   ],
   "source": [
    "players_df.head(10)"
   ]
  },
  {
   "cell_type": "code",
   "execution_count": null,
   "metadata": {
    "collapsed": true
   },
   "outputs": [],
   "source": [
    "# Things to do\n",
    "#PLAYER COUNT\n",
    "# - Total Number of Players\n",
    "#PURCHASING ANALYSIS(TOTAL)\n",
    "# - Number of Unique Items\n",
    "# - Average Purchase Price\n",
    "# - Total Number of Purchases\n",
    "# - Total Revenue\n",
    "#GENDER DEMOGRAPHICS\n",
    "# - Percentage and Count of Male Players\n",
    "# - Percentage and Count of Female Players\n",
    "# - Percentage and Count of Other / Non-Disclosed\n",
    "#PURCHASING ANALYSIS (GENDER)\n",
    "#>broken by gender\n",
    "# - Purchase Count\n",
    "# - Average Purchase Price\n",
    "# - Total Purchase Value\n",
    "# - Normalized Totals\n",
    "#AGE DEMOGRAPHICS\n",
    "#>broken into bins of 4 years (ie <10, 10-14, 15-19,...)\n",
    "# - Purchase Count\n",
    "#TOP SPENDERS\n",
    "#MOST POPULAR ITEMS\n",
    "#MOST PROFITABLE ITEMS"
   ]
  }
 ],
 "metadata": {
  "kernelspec": {
   "display_name": "Python [conda env:PythonData]",
   "language": "python",
   "name": "conda-env-PythonData-py"
  },
  "language_info": {
   "codemirror_mode": {
    "name": "ipython",
    "version": 3
   },
   "file_extension": ".py",
   "mimetype": "text/x-python",
   "name": "python",
   "nbconvert_exporter": "python",
   "pygments_lexer": "ipython3",
   "version": "3.6.3"
  }
 },
 "nbformat": 4,
 "nbformat_minor": 2
}
