{
 "cells": [
  {
   "cell_type": "code",
   "execution_count": 30,
   "metadata": {},
   "outputs": [],
   "source": [
    "# Dependencies\n",
    "import pandas as pd"
   ]
  },
  {
   "cell_type": "code",
   "execution_count": 31,
   "metadata": {
    "collapsed": true
   },
   "outputs": [],
   "source": [
    "# Import files using pandas\n",
    "items_df = pd.read_csv(\"generated_data\\items_complete.csv\")\n",
    "players_df = pd.read_csv(\"generated_data\\players_complete.csv\")\n",
    "purchase_df = pd.read_csv(\"generated_data\\purchase_data_3.csv\")"
   ]
  },
  {
   "cell_type": "code",
   "execution_count": 32,
   "metadata": {
    "collapsed": true
   },
   "outputs": [],
   "source": [
    "# Get the total number of players with .count(), using SN column b/c its short\n",
    "player_count = players_df[\"SN\"].count()"
   ]
  },
  {
   "cell_type": "code",
   "execution_count": 33,
   "metadata": {
    "collapsed": true
   },
   "outputs": [],
   "source": [
    "# Get the total count of unique items with len() since .unique() returns a list\n",
    "unique_item_count = len(items_df[\"Item Name\"].unique())"
   ]
  },
  {
   "cell_type": "code",
   "execution_count": 34,
   "metadata": {
    "collapsed": true
   },
   "outputs": [],
   "source": [
    "# Get the average purchase price by dividing the sum of the price column by total number of items\n",
    "average_purchase_price = purchase_df[\"Price\"].sum() / len(purchase_df[\"Price\"])"
   ]
  },
  {
   "cell_type": "code",
   "execution_count": 42,
   "metadata": {},
   "outputs": [
    {
     "name": "stdout",
     "output_type": "stream",
     "text": [
      "78\n"
     ]
    }
   ],
   "source": [
    "# Get the total number of purchases\n",
    "total_purchases = purchase_df[\"Price\"].count()"
   ]
  },
  {
   "cell_type": "code",
   "execution_count": 57,
   "metadata": {},
   "outputs": [
    {
     "name": "stdout",
     "output_type": "stream",
     "text": [
      "228.0999999999999\n"
     ]
    }
   ],
   "source": [
    "# Get total revenue by taking price from purchase and subtracting price from item\n",
    "# join table -> do more stuff\n",
    "#purchase_items_joined_df = pd.merge(purchase_df, items_df, on=\"Item ID\")\n",
    "#purchase_items_joined_df = purchase_items_joined_df.rename(columns={\"Item Name_x\": \"Item Name(Purchase)\",\n",
    "#                                                                   \"Price_x\": \"Purchase Price\",\n",
    "#                                                                   \"Item Name_y\": \"Item Name(Stock)\",\n",
    "#                                                                   \"Price_y\": \"MSRP\"})\n",
    "#purchase_items_joined_df[\"Revenue\"] = purchase_items_joined_df[\"Purchase Price\"] - purchase_items_joined_df[\"MSRP\"]\n",
    "#purchase_items_joined_df.head() FFFFFFFF I SHOULD'VE CHECKED THE GENERATOR CODE TO SEE IF THE PRICE WAS DIFFERENT\n",
    "# OK actually just add up the revenue from the purchase_df\n",
    "total_revenue = purchase_df[\"Price\"].sum()"
   ]
  },
  {
   "cell_type": "code",
   "execution_count": 77,
   "metadata": {},
   "outputs": [
    {
     "data": {
      "text/plain": [
       "'82.03%'"
      ]
     },
     "execution_count": 77,
     "metadata": {},
     "output_type": "execute_result"
    }
   ],
   "source": [
    "# Get % and # of male players\n",
    "number_male = len(players_df.loc[players_df[\"Gender\"] == \"Male\",:])\n",
    "\n",
    "percent_male = (number_male / player_count)\n",
    "percent_male = \"{:.2%}\".format(percent_male)\n",
    "percent_male"
   ]
  },
  {
   "cell_type": "code",
   "execution_count": 80,
   "metadata": {},
   "outputs": [
    {
     "data": {
      "text/plain": [
       "'16.08%'"
      ]
     },
     "execution_count": 80,
     "metadata": {},
     "output_type": "execute_result"
    }
   ],
   "source": [
    "# Get % and # of female players\n",
    "number_female = len(players_df.loc[players_df[\"Gender\"] == \"Female\",:])\n",
    "\n",
    "percent_female = (number_female / player_count)\n",
    "percent_female = \"{:.2%}\".format(percent_female)\n",
    "percent_female"
   ]
  },
  {
   "cell_type": "code",
   "execution_count": 86,
   "metadata": {},
   "outputs": [
    {
     "data": {
      "text/plain": [
       "'1.89%'"
      ]
     },
     "execution_count": 86,
     "metadata": {},
     "output_type": "execute_result"
    }
   ],
   "source": [
    "# Get % and # of other / non-disclosed players\n",
    "number_other = len(players_df.loc[players_df[\"Gender\"] == \"Other / Non-Disclosed\",:])\n",
    "\n",
    "percent_other = (number_other / player_count)\n",
    "percent_other = \"{:.2%}\".format(percent_other)\n",
    "percent_other"
   ]
  },
  {
   "cell_type": "code",
   "execution_count": 90,
   "metadata": {},
   "outputs": [
    {
     "data": {
      "text/plain": [
       "1"
      ]
     },
     "execution_count": 90,
     "metadata": {},
     "output_type": "execute_result"
    }
   ],
   "source": [
    "# Get purchase count broken by gender\n",
    "male_purchase = len(purchase_df.loc[purchase_df[\"Gender\"] == \"Male\",:])\n",
    "female_purchase = len(purchase_df.loc[purchase_df[\"Gender\"] == \"Female\",:])\n",
    "other_purchase = len(purchase_df.loc[purchase_df[\"Gender\"] == \"Other / Non-Disclosed\",:])"
   ]
  },
  {
   "cell_type": "code",
   "execution_count": 102,
   "metadata": {},
   "outputs": [
    {
     "data": {
      "text/plain": [
       "2.12"
      ]
     },
     "execution_count": 102,
     "metadata": {},
     "output_type": "execute_result"
    }
   ],
   "source": [
    "# Get average purchase price broken by gender\n",
    "male_average_price = purchase_df.loc[purchase_df[\"Gender\"] == \"Male\",:]\n",
    "male_average_price = male_average_price[\"Price\"].sum() / len(male_average_price[\"Price\"])\n",
    "male_average_price\n",
    "\n",
    "female_average_price = purchase_df.loc[purchase_df[\"Gender\"] == \"Female\",:]\n",
    "female_average_price = female_average_price[\"Price\"].sum() / len(female_average_price[\"Price\"])\n",
    "female_average_price\n",
    "\n",
    "other_average_price = purchase_df.loc[purchase_df[\"Gender\"] == \"Other / Non-Disclosed\",:]\n",
    "other_average_price = other_average_price[\"Price\"].sum() / len(other_average_price[\"Price\"])\n",
    "other_average_price"
   ]
  },
  {
   "cell_type": "code",
   "execution_count": null,
   "metadata": {
    "collapsed": true
   },
   "outputs": [],
   "source": [
    "# Get total purchase value broken by gender"
   ]
  },
  {
   "cell_type": "code",
   "execution_count": 91,
   "metadata": {},
   "outputs": [
    {
     "data": {
      "text/html": [
       "<div>\n",
       "<style>\n",
       "    .dataframe thead tr:only-child th {\n",
       "        text-align: right;\n",
       "    }\n",
       "\n",
       "    .dataframe thead th {\n",
       "        text-align: left;\n",
       "    }\n",
       "\n",
       "    .dataframe tbody tr th {\n",
       "        vertical-align: top;\n",
       "    }\n",
       "</style>\n",
       "<table border=\"1\" class=\"dataframe\">\n",
       "  <thead>\n",
       "    <tr style=\"text-align: right;\">\n",
       "      <th></th>\n",
       "      <th>Purchase ID</th>\n",
       "      <th>SN</th>\n",
       "      <th>Age</th>\n",
       "      <th>Gender</th>\n",
       "      <th>Item ID</th>\n",
       "      <th>Item Name</th>\n",
       "      <th>Price</th>\n",
       "    </tr>\n",
       "  </thead>\n",
       "  <tbody>\n",
       "    <tr>\n",
       "      <th>0</th>\n",
       "      <td>0</td>\n",
       "      <td>Iloni35</td>\n",
       "      <td>20</td>\n",
       "      <td>Male</td>\n",
       "      <td>93</td>\n",
       "      <td>Apocalyptic Battlescythe</td>\n",
       "      <td>4.49</td>\n",
       "    </tr>\n",
       "    <tr>\n",
       "      <th>1</th>\n",
       "      <td>1</td>\n",
       "      <td>Aidaira26</td>\n",
       "      <td>21</td>\n",
       "      <td>Male</td>\n",
       "      <td>12</td>\n",
       "      <td>Dawne</td>\n",
       "      <td>3.36</td>\n",
       "    </tr>\n",
       "    <tr>\n",
       "      <th>2</th>\n",
       "      <td>2</td>\n",
       "      <td>Irim47</td>\n",
       "      <td>17</td>\n",
       "      <td>Male</td>\n",
       "      <td>5</td>\n",
       "      <td>Putrid Fan</td>\n",
       "      <td>2.63</td>\n",
       "    </tr>\n",
       "    <tr>\n",
       "      <th>3</th>\n",
       "      <td>3</td>\n",
       "      <td>Irith83</td>\n",
       "      <td>17</td>\n",
       "      <td>Male</td>\n",
       "      <td>123</td>\n",
       "      <td>Twilight's Carver</td>\n",
       "      <td>2.55</td>\n",
       "    </tr>\n",
       "    <tr>\n",
       "      <th>4</th>\n",
       "      <td>4</td>\n",
       "      <td>Philodil43</td>\n",
       "      <td>22</td>\n",
       "      <td>Male</td>\n",
       "      <td>154</td>\n",
       "      <td>Feral Katana</td>\n",
       "      <td>4.11</td>\n",
       "    </tr>\n",
       "  </tbody>\n",
       "</table>\n",
       "</div>"
      ],
      "text/plain": [
       "   Purchase ID          SN  Age Gender  Item ID                 Item Name  \\\n",
       "0            0     Iloni35   20   Male       93  Apocalyptic Battlescythe   \n",
       "1            1   Aidaira26   21   Male       12                     Dawne   \n",
       "2            2      Irim47   17   Male        5                Putrid Fan   \n",
       "3            3     Irith83   17   Male      123         Twilight's Carver   \n",
       "4            4  Philodil43   22   Male      154              Feral Katana   \n",
       "\n",
       "   Price  \n",
       "0   4.49  \n",
       "1   3.36  \n",
       "2   2.63  \n",
       "3   2.55  \n",
       "4   4.11  "
      ]
     },
     "execution_count": 91,
     "metadata": {},
     "output_type": "execute_result"
    }
   ],
   "source": [
    "purchase_df.head()"
   ]
  },
  {
   "cell_type": "code",
   "execution_count": 44,
   "metadata": {},
   "outputs": [
    {
     "data": {
      "text/html": [
       "<div>\n",
       "<style>\n",
       "    .dataframe thead tr:only-child th {\n",
       "        text-align: right;\n",
       "    }\n",
       "\n",
       "    .dataframe thead th {\n",
       "        text-align: left;\n",
       "    }\n",
       "\n",
       "    .dataframe tbody tr th {\n",
       "        vertical-align: top;\n",
       "    }\n",
       "</style>\n",
       "<table border=\"1\" class=\"dataframe\">\n",
       "  <thead>\n",
       "    <tr style=\"text-align: right;\">\n",
       "      <th></th>\n",
       "      <th>Item ID</th>\n",
       "      <th>Item Name</th>\n",
       "      <th>Price</th>\n",
       "    </tr>\n",
       "  </thead>\n",
       "  <tbody>\n",
       "    <tr>\n",
       "      <th>0</th>\n",
       "      <td>0</td>\n",
       "      <td>Splinter</td>\n",
       "      <td>1.89</td>\n",
       "    </tr>\n",
       "  </tbody>\n",
       "</table>\n",
       "</div>"
      ],
      "text/plain": [
       "   Item ID Item Name  Price\n",
       "0        0  Splinter   1.89"
      ]
     },
     "execution_count": 44,
     "metadata": {},
     "output_type": "execute_result"
    }
   ],
   "source": [
    "items_df.head(1)"
   ]
  },
  {
   "cell_type": "code",
   "execution_count": 79,
   "metadata": {},
   "outputs": [
    {
     "data": {
      "text/html": [
       "<div>\n",
       "<style>\n",
       "    .dataframe thead tr:only-child th {\n",
       "        text-align: right;\n",
       "    }\n",
       "\n",
       "    .dataframe thead th {\n",
       "        text-align: left;\n",
       "    }\n",
       "\n",
       "    .dataframe tbody tr th {\n",
       "        vertical-align: top;\n",
       "    }\n",
       "</style>\n",
       "<table border=\"1\" class=\"dataframe\">\n",
       "  <thead>\n",
       "    <tr style=\"text-align: right;\">\n",
       "      <th></th>\n",
       "      <th>Player ID</th>\n",
       "      <th>SN</th>\n",
       "      <th>Age</th>\n",
       "      <th>Gender</th>\n",
       "    </tr>\n",
       "  </thead>\n",
       "  <tbody>\n",
       "    <tr>\n",
       "      <th>0</th>\n",
       "      <td>0</td>\n",
       "      <td>Marughi89</td>\n",
       "      <td>21</td>\n",
       "      <td>Male</td>\n",
       "    </tr>\n",
       "    <tr>\n",
       "      <th>1</th>\n",
       "      <td>1</td>\n",
       "      <td>Lirtedy26</td>\n",
       "      <td>40</td>\n",
       "      <td>Male</td>\n",
       "    </tr>\n",
       "    <tr>\n",
       "      <th>2</th>\n",
       "      <td>2</td>\n",
       "      <td>Chamistast30</td>\n",
       "      <td>7</td>\n",
       "      <td>Male</td>\n",
       "    </tr>\n",
       "    <tr>\n",
       "      <th>3</th>\n",
       "      <td>3</td>\n",
       "      <td>Lisirra25</td>\n",
       "      <td>24</td>\n",
       "      <td>Male</td>\n",
       "    </tr>\n",
       "    <tr>\n",
       "      <th>4</th>\n",
       "      <td>4</td>\n",
       "      <td>Lirtim36</td>\n",
       "      <td>23</td>\n",
       "      <td>Male</td>\n",
       "    </tr>\n",
       "    <tr>\n",
       "      <th>5</th>\n",
       "      <td>5</td>\n",
       "      <td>Undimsya85</td>\n",
       "      <td>17</td>\n",
       "      <td>Female</td>\n",
       "    </tr>\n",
       "    <tr>\n",
       "      <th>6</th>\n",
       "      <td>6</td>\n",
       "      <td>Lirtassa77</td>\n",
       "      <td>20</td>\n",
       "      <td>Female</td>\n",
       "    </tr>\n",
       "    <tr>\n",
       "      <th>7</th>\n",
       "      <td>7</td>\n",
       "      <td>Mindirra92</td>\n",
       "      <td>23</td>\n",
       "      <td>Male</td>\n",
       "    </tr>\n",
       "    <tr>\n",
       "      <th>8</th>\n",
       "      <td>8</td>\n",
       "      <td>Undirrasta89</td>\n",
       "      <td>23</td>\n",
       "      <td>Male</td>\n",
       "    </tr>\n",
       "    <tr>\n",
       "      <th>9</th>\n",
       "      <td>9</td>\n",
       "      <td>Iskjaskst81</td>\n",
       "      <td>15</td>\n",
       "      <td>Male</td>\n",
       "    </tr>\n",
       "  </tbody>\n",
       "</table>\n",
       "</div>"
      ],
      "text/plain": [
       "   Player ID            SN  Age  Gender\n",
       "0          0     Marughi89   21    Male\n",
       "1          1     Lirtedy26   40    Male\n",
       "2          2  Chamistast30    7    Male\n",
       "3          3     Lisirra25   24    Male\n",
       "4          4      Lirtim36   23    Male\n",
       "5          5    Undimsya85   17  Female\n",
       "6          6    Lirtassa77   20  Female\n",
       "7          7    Mindirra92   23    Male\n",
       "8          8  Undirrasta89   23    Male\n",
       "9          9   Iskjaskst81   15    Male"
      ]
     },
     "execution_count": 79,
     "metadata": {},
     "output_type": "execute_result"
    }
   ],
   "source": [
    "players_df.head(10)"
   ]
  },
  {
   "cell_type": "code",
   "execution_count": null,
   "metadata": {
    "collapsed": true
   },
   "outputs": [],
   "source": [
    "# Things to do\n",
    "#PLAYER COUNT\n",
    "# - Total Number of Players\n",
    "#PURCHASING ANALYSIS(TOTAL)\n",
    "# - Number of Unique Items\n",
    "# - Average Purchase Price\n",
    "# - Total Number of Purchases\n",
    "# - Total Revenue\n",
    "#GENDER DEMOGRAPHICS\n",
    "# - Percentage and Count of Male Players\n",
    "# - Percentage and Count of Female Players\n",
    "# - Percentage and Count of Other / Non-Disclosed\n",
    "#PURCHASING ANALYSIS (GENDER)\n",
    "#>broken by gender\n",
    "# - Purchase Count\n",
    "# - Average Purchase Price\n",
    "# - Total Purchase Value\n",
    "#AGE DEMOGRAPHICS\n",
    "#TOP SPENDERS\n",
    "#MOST POPULAR ITEMS\n",
    "#MOST PROFITABLE ITEMS"
   ]
  }
 ],
 "metadata": {
  "kernelspec": {
   "display_name": "Python [conda env:PythonData]",
   "language": "python",
   "name": "conda-env-PythonData-py"
  },
  "language_info": {
   "codemirror_mode": {
    "name": "ipython",
    "version": 3
   },
   "file_extension": ".py",
   "mimetype": "text/x-python",
   "name": "python",
   "nbconvert_exporter": "python",
   "pygments_lexer": "ipython3",
   "version": "3.6.3"
  }
 },
 "nbformat": 4,
 "nbformat_minor": 2
}
