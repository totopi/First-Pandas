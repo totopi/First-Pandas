{
 "cells": [
  {
   "cell_type": "code",
   "execution_count": 30,
   "metadata": {},
   "outputs": [],
   "source": [
    "# Dependencies\n",
    "import pandas as pd"
   ]
  },
  {
   "cell_type": "code",
   "execution_count": 31,
   "metadata": {
    "collapsed": true
   },
   "outputs": [],
   "source": [
    "# Import files using pandas\n",
    "items_df = pd.read_csv(\"generated_data\\items_complete.csv\")\n",
    "players_df = pd.read_csv(\"generated_data\\players_complete.csv\")\n",
    "purchase_df = pd.read_csv(\"generated_data\\purchase_data_3.csv\")"
   ]
  },
  {
   "cell_type": "code",
   "execution_count": 32,
   "metadata": {
    "collapsed": true
   },
   "outputs": [],
   "source": [
    "# Get the total number of players with .count(), using SN column b/c its short\n",
    "player_count = players_df[\"SN\"].count()"
   ]
  },
  {
   "cell_type": "code",
   "execution_count": 33,
   "metadata": {
    "collapsed": true
   },
   "outputs": [],
   "source": [
    "# Get the total count of unique items with len() since .unique() returns a list\n",
    "unique_item_count = len(items_df[\"Item Name\"].unique())"
   ]
  },
  {
   "cell_type": "code",
   "execution_count": 34,
   "metadata": {
    "collapsed": true
   },
   "outputs": [],
   "source": [
    "# Get the average purchase price by dividing the sum of the price column by total number of items\n",
    "average_purchase_price = purchase_df[\"Price\"].sum() / len(purchase_df[\"Price\"])"
   ]
  },
  {
   "cell_type": "code",
   "execution_count": 42,
   "metadata": {},
   "outputs": [
    {
     "name": "stdout",
     "output_type": "stream",
     "text": [
      "78\n"
     ]
    }
   ],
   "source": [
    "# Get the total number of purchases\n",
    "total_purchases = purchase_df[\"Price\"].count()"
   ]
  },
  {
   "cell_type": "code",
   "execution_count": 57,
   "metadata": {},
   "outputs": [
    {
     "name": "stdout",
     "output_type": "stream",
     "text": [
      "228.0999999999999\n"
     ]
    }
   ],
   "source": [
    "# Get total revenue by taking price from purchase and subtracting price from item\n",
    "# join table -> do more stuff\n",
    "#purchase_items_joined_df = pd.merge(purchase_df, items_df, on=\"Item ID\")\n",
    "#purchase_items_joined_df = purchase_items_joined_df.rename(columns={\"Item Name_x\": \"Item Name(Purchase)\",\n",
    "#                                                                   \"Price_x\": \"Purchase Price\",\n",
    "#                                                                   \"Item Name_y\": \"Item Name(Stock)\",\n",
    "#                                                                   \"Price_y\": \"MSRP\"})\n",
    "#purchase_items_joined_df[\"Revenue\"] = purchase_items_joined_df[\"Purchase Price\"] - purchase_items_joined_df[\"MSRP\"]\n",
    "#purchase_items_joined_df.head() FFFFFFFF I SHOULD'VE CHECKED THE GENERATOR CODE TO SEE IF THE PRICE WAS DIFFERENT\n",
    "# OK actually just add up the revenue from the purchase_df\n",
    "total_revenue = purchase_df[\"Price\"].sum()"
   ]
  },
  {
   "cell_type": "code",
   "execution_count": 45,
   "metadata": {},
   "outputs": [
    {
     "data": {
      "text/html": [
       "<div>\n",
       "<style>\n",
       "    .dataframe thead tr:only-child th {\n",
       "        text-align: right;\n",
       "    }\n",
       "\n",
       "    .dataframe thead th {\n",
       "        text-align: left;\n",
       "    }\n",
       "\n",
       "    .dataframe tbody tr th {\n",
       "        vertical-align: top;\n",
       "    }\n",
       "</style>\n",
       "<table border=\"1\" class=\"dataframe\">\n",
       "  <thead>\n",
       "    <tr style=\"text-align: right;\">\n",
       "      <th></th>\n",
       "      <th>Purchase ID</th>\n",
       "      <th>SN</th>\n",
       "      <th>Age</th>\n",
       "      <th>Gender</th>\n",
       "      <th>Item ID</th>\n",
       "      <th>Item Name</th>\n",
       "      <th>Price</th>\n",
       "    </tr>\n",
       "  </thead>\n",
       "  <tbody>\n",
       "    <tr>\n",
       "      <th>0</th>\n",
       "      <td>0</td>\n",
       "      <td>Iloni35</td>\n",
       "      <td>20</td>\n",
       "      <td>Male</td>\n",
       "      <td>93</td>\n",
       "      <td>Apocalyptic Battlescythe</td>\n",
       "      <td>4.49</td>\n",
       "    </tr>\n",
       "  </tbody>\n",
       "</table>\n",
       "</div>"
      ],
      "text/plain": [
       "   Purchase ID       SN  Age Gender  Item ID                 Item Name  Price\n",
       "0            0  Iloni35   20   Male       93  Apocalyptic Battlescythe   4.49"
      ]
     },
     "execution_count": 45,
     "metadata": {},
     "output_type": "execute_result"
    }
   ],
   "source": [
    "purchase_df.head(1)"
   ]
  },
  {
   "cell_type": "code",
   "execution_count": 44,
   "metadata": {},
   "outputs": [
    {
     "data": {
      "text/html": [
       "<div>\n",
       "<style>\n",
       "    .dataframe thead tr:only-child th {\n",
       "        text-align: right;\n",
       "    }\n",
       "\n",
       "    .dataframe thead th {\n",
       "        text-align: left;\n",
       "    }\n",
       "\n",
       "    .dataframe tbody tr th {\n",
       "        vertical-align: top;\n",
       "    }\n",
       "</style>\n",
       "<table border=\"1\" class=\"dataframe\">\n",
       "  <thead>\n",
       "    <tr style=\"text-align: right;\">\n",
       "      <th></th>\n",
       "      <th>Item ID</th>\n",
       "      <th>Item Name</th>\n",
       "      <th>Price</th>\n",
       "    </tr>\n",
       "  </thead>\n",
       "  <tbody>\n",
       "    <tr>\n",
       "      <th>0</th>\n",
       "      <td>0</td>\n",
       "      <td>Splinter</td>\n",
       "      <td>1.89</td>\n",
       "    </tr>\n",
       "  </tbody>\n",
       "</table>\n",
       "</div>"
      ],
      "text/plain": [
       "   Item ID Item Name  Price\n",
       "0        0  Splinter   1.89"
      ]
     },
     "execution_count": 44,
     "metadata": {},
     "output_type": "execute_result"
    }
   ],
   "source": [
    "items_df.head(1)"
   ]
  },
  {
   "cell_type": "code",
   "execution_count": null,
   "metadata": {
    "collapsed": true
   },
   "outputs": [],
   "source": [
    "# Things to do\n",
    "#PLAYER COUNT\n",
    "# - Total Number of Players\n",
    "#PURCHASING ANALYSIS(TOTAL)\n",
    "# - Number of Unique Items\n",
    "# - Average Purchase Price\n",
    "# - Total Number of Purchases\n",
    "# - Total Revenue\n",
    "#GENDER DEMOGRAPHICS\n",
    "#PURCHASING ANALYSIS (GENDER)\n",
    "#AGE DEMOGRAPHICS\n",
    "#TOP SPENDERS\n",
    "#MOST POPULAR ITEMS\n",
    "#MOST PROFITABLE ITEMS"
   ]
  }
 ],
 "metadata": {
  "kernelspec": {
   "display_name": "Python [conda env:PythonData]",
   "language": "python",
   "name": "conda-env-PythonData-py"
  },
  "language_info": {
   "codemirror_mode": {
    "name": "ipython",
    "version": 3
   },
   "file_extension": ".py",
   "mimetype": "text/x-python",
   "name": "python",
   "nbconvert_exporter": "python",
   "pygments_lexer": "ipython3",
   "version": "3.6.3"
  }
 },
 "nbformat": 4,
 "nbformat_minor": 2
}
